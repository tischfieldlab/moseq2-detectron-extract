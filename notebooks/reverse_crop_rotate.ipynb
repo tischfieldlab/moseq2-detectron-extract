{
 "cells": [
  {
   "cell_type": "code",
   "execution_count": 1,
   "id": "fd9e9247-1f74-4185-b7a1-9331c8c3dc43",
   "metadata": {},
   "outputs": [],
   "source": [
    "import h5py\n",
    "import cv2\n",
    "import numpy as np\n",
    "import matplotlib.pyplot as plt\n",
    "\n",
    "from typing import Dict, List, Literal, Sequence, Tuple\n",
    "from moseq2_detectron_extract.proc.roi import get_bbox_size\n",
    "from moseq2_detectron_extract.io.annot import register_dataset_metadata\n",
    "register_dataset_metadata('moseq')"
   ]
  },
  {
   "cell_type": "code",
   "execution_count": 2,
   "id": "fbc91204-cc73-48f2-a2bd-0bc28b0b0706",
   "metadata": {},
   "outputs": [],
   "source": [
    "h5_path = r\"E:\\moseq_raw_data\\detectron2_testing_full\\session_20200915132521_top-score-vote\\results_00.h5\"\n",
    "h5_file = h5py.File(h5_path)"
   ]
  },
  {
   "cell_type": "code",
   "execution_count": 3,
   "id": "1a0c8a92-8955-40c2-8cd2-a68d8a2b612a",
   "metadata": {},
   "outputs": [
    {
     "name": "stdout",
     "output_type": "stream",
     "text": [
      "(1000, 80, 80)\n",
      "(1000,)\n",
      "(1000, 2)\n",
      "(424, 512)\n"
     ]
    }
   ],
   "source": [
    "clean_frames = h5_file['/frames'][()]\n",
    "angles = h5_file['/scalars/angle'][()]\n",
    "centroids = np.stack((\n",
    "    h5_file['/scalars/centroid_x_px'][()],\n",
    "    h5_file['/scalars/centroid_y_px'][()]\n",
    "), axis=1)\n",
    "roi = h5_file['/metadata/extraction/roi'][()]\n",
    "print(clean_frames.shape)\n",
    "print(angles.shape)\n",
    "print(centroids.shape)\n",
    "print(roi.shape)"
   ]
  },
  {
   "cell_type": "code",
   "execution_count": 4,
   "id": "985ad0e7",
   "metadata": {},
   "outputs": [],
   "source": [
    "def reverse_crop_and_rotate_frame(frame: np.ndarray, dest_size: Tuple[int, int], center: Tuple[float, float], angle: float):\n",
    "\n",
    "    if np.isnan(angle) or np.any(np.isnan(center)):\n",
    "        return np.zeros_like(frame, shape=dest_size) # pylint: disable=unexpected-keyword-arg\n",
    "\n",
    "    frame = frame.copy()\n",
    "    src_shape = frame.shape\n",
    "    src_center = (src_shape[0] // 2, src_shape[1] // 2)\n",
    "\n",
    "    rot_mat = cv2.getRotationMatrix2D(src_center, -angle, 1)\n",
    "    frame = cv2.warpAffine(frame, rot_mat, (dest_size[0], dest_size[1]))\n",
    "\n",
    "    translate_mat = np.float32([\n",
    "        [1, 0, center[0] - src_center[0]],\n",
    "        [0, 1, center[1] - src_center[1]]\n",
    "    ])\n",
    "    frame = cv2.warpAffine(frame, translate_mat, (dest_size[0], dest_size[1]))\n",
    "\n",
    "    return frame"
   ]
  },
  {
   "cell_type": "code",
   "execution_count": 5,
   "id": "6cb79276",
   "metadata": {},
   "outputs": [
    {
     "data": {
      "text/plain": [
       "<matplotlib.image.AxesImage at 0x1cf29e15df0>"
      ]
     },
     "execution_count": 5,
     "metadata": {},
     "output_type": "execute_result"
    },
    {
     "data": {
      "image/png": "[encoded data removed]",
      "text/plain": [
       "<Figure size 432x288 with 1 Axes>"
      ]
     },
     "metadata": {
      "needs_background": "light"
     },
     "output_type": "display_data"
    }
   ],
   "source": [
    "i = 840\n",
    "\n",
    "dest_size = get_bbox_size(roi)\n",
    "frame = reverse_crop_and_rotate_frame(clean_frames[i], dest_size, centroids[i], angles[i])\n",
    "plt.imshow(frame)"
   ]
  },
  {
   "cell_type": "code",
   "execution_count": 6,
   "metadata": {},
   "outputs": [
    {
     "name": "stderr",
     "output_type": "stream",
     "text": [
      "batches: 100%|██████████| 100/100 [13:36<00:00,  8.16s/it]\n"
     ]
    }
   ],
   "source": [
    "from moseq2_detectron_extract.io.flips import preview_video_from_h5\n",
    "preview_video_from_h5(h5_file, r'E:\\moseq_raw_data\\detectron2_testing_full\\session_20200915132521_top-score-vote\\results_00.fromh5.mp4')"
   ]
  },
  {
   "cell_type": "code",
   "execution_count": null,
   "id": "a2e89810",
   "metadata": {},
   "outputs": [],
   "source": []
  }
 ],
 "metadata": {
  "interpreter": {
   "hash": "c510d253636054fdfcb4ad054e832fb1f04e4986a6ea209d6ed0eaae8ac3873d"
  },
  "kernelspec": {
   "display_name": "Python 3.8.12 ('moseq-detectron')",
   "language": "python",
   "name": "python3"
  },
  "language_info": {
   "codemirror_mode": {
    "name": "ipython",
    "version": 3
   },
   "file_extension": ".py",
   "mimetype": "text/x-python",
   "name": "python",
   "nbconvert_exporter": "python",
   "pygments_lexer": "ipython3",
   "version": "3.8.12"
  }
 },
 "nbformat": 4,
 "nbformat_minor": 5
}
