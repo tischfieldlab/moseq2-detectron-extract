{
 "cells": [
  {
   "cell_type": "code",
   "execution_count": 1,
   "id": "fd9e9247-1f74-4185-b7a1-9331c8c3dc43",
   "metadata": {},
   "outputs": [],
   "source": [
    "import h5py\n",
    "import cv2\n",
    "import numpy as np\n",
    "import matplotlib.pyplot as plt\n",
    "\n",
    "from detectron2.data.catalog import MetadataCatalog\n",
    "\n",
    "from typing import Dict, List, Literal, Sequence, Tuple\n",
    "from moseq2_detectron_extract.proc.roi import get_bbox_size\n",
    "from moseq2_detectron_extract.io.annot import register_dataset_metadata\n",
    "register_dataset_metadata('moseq')\n",
    "from moseq2_detectron_extract.io.util import gen_batch_sequence\n",
    "from moseq2_detectron_extract.io.video import PreviewVideoWriter\n",
    "from moseq2_detectron_extract.proc.keypoints import load_keypoint_data_from_h5\n",
    "from moseq2_detectron_extract.proc.proc import reverse_crop_and_rotate_frame, stack_videos\n",
    "from moseq2_detectron_extract.proc.roi import get_bbox_size\n",
    "from moseq2_detectron_extract.viz import (ArenaView, CleanedFramesView,\n",
    "                                          RotatedKeypointsView)\n",
    "from tqdm import tqdm"
   ]
  },
  {
   "cell_type": "code",
   "execution_count": 2,
   "id": "fbc91204-cc73-48f2-a2bd-0bc28b0b0706",
   "metadata": {},
   "outputs": [],
   "source": [
    "h5_path = r\"E:\\moseq_raw_data\\detectron2_testing_full\\session_20200915132521_top-score-vote\\results_00.h5\"\n",
    "h5_file = h5py.File(h5_path)"
   ]
  },
  {
   "cell_type": "code",
   "execution_count": 3,
   "id": "1a0c8a92-8955-40c2-8cd2-a68d8a2b612a",
   "metadata": {},
   "outputs": [
    {
     "name": "stdout",
     "output_type": "stream",
     "text": [
      "(1000, 80, 80)\n",
      "(1000,)\n",
      "(1000, 2)\n",
      "(424, 512)\n"
     ]
    }
   ],
   "source": [
    "clean_frames = h5_file['/frames'][()]\n",
    "angles = h5_file['/scalars/angle'][()]\n",
    "centroids = np.stack((\n",
    "    h5_file['/scalars/centroid_x_px'][()],\n",
    "    h5_file['/scalars/centroid_y_px'][()]\n",
    "), axis=1)\n",
    "roi = h5_file['/metadata/extraction/roi'][()]\n",
    "print(clean_frames.shape)\n",
    "print(angles.shape)\n",
    "print(centroids.shape)\n",
    "print(roi.shape)"
   ]
  },
  {
   "cell_type": "code",
   "execution_count": 4,
   "id": "985ad0e7",
   "metadata": {},
   "outputs": [],
   "source": [
    "def reverse_crop_and_rotate_frame(frame: np.ndarray, dest_size: Tuple[int, int], center: Tuple[float, float], angle: float):\n",
    "\n",
    "    if np.isnan(angle) or np.any(np.isnan(center)):\n",
    "        return np.zeros_like(frame, shape=dest_size) # pylint: disable=unexpected-keyword-arg\n",
    "\n",
    "    frame = frame.copy()\n",
    "    src_shape = frame.shape\n",
    "    src_center = (src_shape[0] // 2, src_shape[1] // 2)\n",
    "\n",
    "    rot_mat = cv2.getRotationMatrix2D(src_center, -angle, 1)\n",
    "    frame = cv2.warpAffine(frame, rot_mat, (dest_size[0], dest_size[1]))\n",
    "\n",
    "    translate_mat = np.float32([\n",
    "        [1, 0, center[0] - src_center[0]],\n",
    "        [0, 1, center[1] - src_center[1]]\n",
    "    ])\n",
    "    frame = cv2.warpAffine(frame, translate_mat, (dest_size[0], dest_size[1]))\n",
    "\n",
    "    return frame"
   ]
  },
  {
   "cell_type": "code",
   "execution_count": 5,
   "id": "6cb79276",
   "metadata": {},
   "outputs": [
    {
     "data": {
      "text/plain": [
       "<matplotlib.image.AxesImage at 0x2a50adedc40>"
      ]
     },
     "execution_count": 5,
     "metadata": {},
     "output_type": "execute_result"
    },
    {
     "data": {
      "image/png": "[encoded data removed]",
      "text/plain": [
       "<Figure size 432x288 with 1 Axes>"
      ]
     },
     "metadata": {
      "needs_background": "light"
     },
     "output_type": "display_data"
    }
   ],
   "source": [
    "i = 840\n",
    "\n",
    "dest_size = get_bbox_size(roi)\n",
    "frame = reverse_crop_and_rotate_frame(clean_frames[i], dest_size, centroids[i], angles[i])\n",
    "plt.imshow(frame)"
   ]
  },
  {
   "cell_type": "code",
   "execution_count": 6,
   "id": "07d06443",
   "metadata": {},
   "outputs": [],
   "source": [
    "#from moseq2_detectron_extract.io.flips import preview_video_from_h5\n",
    "#preview_video_from_h5(h5_file, r'E:\\moseq_raw_data\\detectron2_testing_full\\session_20200915132521_top-score-vote\\results_00.fromh5.mp4')"
   ]
  },
  {
   "cell_type": "code",
   "execution_count": 9,
   "id": "a2e89810",
   "metadata": {},
   "outputs": [],
   "source": [
    "def preview_video_from_h5(h5_file: h5py.File, dest: str, dset_name: str = 'moseq', vmin=0, vmax=100, fps=30, batch_size=10, start=None, stop=None):\n",
    "\n",
    "    total_frames = h5_file['/frames'].shape[0]\n",
    "    roi = h5_file['/metadata/extraction/roi'][()]\n",
    "    roi_size = get_bbox_size(roi)\n",
    "\n",
    "    dset_meta = MetadataCatalog.get(dset_name)\n",
    "    clean_frames_view = CleanedFramesView(scale=1.5, dset_meta=dset_meta)\n",
    "    rot_kpt_view = RotatedKeypointsView(scale=1.5, dset_meta=dset_meta)\n",
    "    arena_view = ArenaView(roi, scale=2.0, vmin=vmin, vmax=vmax, dset_meta=dset_meta)\n",
    "\n",
    "    video_pipe = PreviewVideoWriter(dest, fps=fps, vmin=vmin, vmax=vmax)\n",
    "\n",
    "    batches = list(gen_batch_sequence(h5_file['/frames'].shape[0], batch_size, 0, 0))\n",
    "\n",
    "    for batch, batch_idxs in enumerate(tqdm(batches, desc='batches', total=len(batches))):\n",
    "        batch_idxs = list(batch_idxs)\n",
    "        #print(batch_idxs)\n",
    "        masks = h5_file['/frames_mask'][batch_idxs, ...]\n",
    "        clean_frames = h5_file['/frames'][batch_idxs, ...]\n",
    "        centroids = np.stack((\n",
    "            h5_file['/scalars/centroid_x_px'][batch_idxs],\n",
    "            h5_file['/scalars/centroid_y_px'][batch_idxs]\n",
    "        ), axis=1)\n",
    "        angles = h5_file['/scalars/angle'][batch_idxs]\n",
    "        rot_keypoints = load_keypoint_data_from_h5(h5_file, coord_system='rotated', units='px')[batch_idxs]\n",
    "        ref_keypoints = load_keypoint_data_from_h5(h5_file, coord_system='reference', units='px')[batch_idxs]\n",
    "        \n",
    "\n",
    "        raw_frames = np.zeros((clean_frames.shape[0], roi_size[1], roi_size[0]), dtype='uint8')\n",
    "        raw_masks = np.zeros((clean_frames.shape[0], roi_size[1], roi_size[0]), dtype='bool')\n",
    "        for i in range(clean_frames.shape[0]):\n",
    "            raw_frames[i] = reverse_crop_and_rotate_frame(clean_frames[i], roi_size, centroids[i], angles[i])\n",
    "            raw_masks[i] = reverse_crop_and_rotate_frame(masks[i].astype('uint8'), roi_size, centroids[i], angles[i]).astype('bool')\n",
    "\n",
    "        field_video = arena_view.generate_frames(raw_frames=raw_frames, keypoints=ref_keypoints[:, None, :, :], masks=raw_masks, boxes=None)\n",
    "        rc_kpts_video = rot_kpt_view.generate_frames(masks=masks, keypoints=rot_keypoints)\n",
    "        cln_depth_video = clean_frames_view.generate_frames(clean_frames=clean_frames, masks=masks)\n",
    "\n",
    "        proc_stack = stack_videos([cln_depth_video, rc_kpts_video], orientation='vertical')\n",
    "        out_video_combined = stack_videos([proc_stack, field_video], orientation='horizontal')\n",
    "        plt.imshow(field_video[0])\n",
    "        video_pipe.write_frames(batch_idxs, out_video_combined)\n",
    "        return\n",
    "\n",
    "    video_pipe.close()"
   ]
  },
  {
   "cell_type": "code",
   "execution_count": 10,
   "id": "7b4bb702",
   "metadata": {},
   "outputs": [
    {
     "name": "stderr",
     "output_type": "stream",
     "text": [
      "batches:   0%|          | 0/100 [00:08<?, ?it/s]\n"
     ]
    },
    {
     "data": {
      "image/png": "[encoded data removed]",
      "text/plain": [
       "<Figure size 432x288 with 1 Axes>"
      ]
     },
     "metadata": {
      "needs_background": "light"
     },
     "output_type": "display_data"
    }
   ],
   "source": [
    "preview_video_from_h5(h5_file, r'E:\\moseq_raw_data\\detectron2_testing_full\\session_20200915132521_top-score-vote\\results_00.fromh5.mp4')"
   ]
  },
  {
   "cell_type": "code",
   "execution_count": null,
   "id": "5a9dec62",
   "metadata": {},
   "outputs": [],
   "source": []
  }
 ],
 "metadata": {
  "interpreter": {
   "hash": "c510d253636054fdfcb4ad054e832fb1f04e4986a6ea209d6ed0eaae8ac3873d"
  },
  "kernelspec": {
   "display_name": "Python 3.8.12 ('moseq-detectron')",
   "language": "python",
   "name": "python3"
  },
  "language_info": {
   "codemirror_mode": {
    "name": "ipython",
    "version": 3
   },
   "file_extension": ".py",
   "mimetype": "text/x-python",
   "name": "python",
   "nbconvert_exporter": "python",
   "pygments_lexer": "ipython3",
   "version": "3.8.12"
  }
 },
 "nbformat": 4,
 "nbformat_minor": 5
}
