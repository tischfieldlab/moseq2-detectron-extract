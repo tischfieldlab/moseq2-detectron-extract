{
 "cells": [
  {
   "cell_type": "code",
   "execution_count": 38,
   "metadata": {},
   "outputs": [],
   "source": [
    "from moseq2_detectron_extract.quality import find_outliers_h5\n",
    "from moseq2_detectron_extract.proc.keypoints import (\n",
    "    find_nan_keypoints, find_outliers_jumping, load_keypoint_data_from_h5)\n",
    "import h5py\n",
    "from moseq2_detectron_extract.io.annot import default_keypoint_names\n",
    "from moseq2_detectron_extract.proc.proc import clamp_angles\n",
    "import seaborn as sns\n",
    "import numpy as np"
   ]
  },
  {
   "cell_type": "code",
   "execution_count": 29,
   "metadata": {},
   "outputs": [
    {
     "name": "stdout",
     "output_type": "stream",
     "text": [
      "['Nose', 'Left Ear', 'Right Ear', 'Neck', 'Left Hip', 'Right Hip', 'TailBase']\n",
      "(35999, 7, 3)\n",
      "(35999, 2)\n"
     ]
    }
   ],
   "source": [
    "h5_path = r\"D:\\moseq-extract-testing\\floating_blobs\\session_20210304155906\\proc\\results_00.h5\"\n",
    "h5 = h5py.File(h5_path, 'r')\n",
    "keypoint_names = [kp for kp in default_keypoint_names if kp != 'TailTip']\n",
    "kpts = load_keypoint_data_from_h5(h5, keypoint_names, coord_system='rotated')\n",
    "\n",
    "centroids = np.column_stack((h5['/scalars/centroid_x_px'], h5['/scalars/centroid_y_px']))\n",
    "\n",
    "print(keypoint_names)\n",
    "print(kpts.shape)\n",
    "print(centroids.shape)"
   ]
  },
  {
   "cell_type": "code",
   "execution_count": 3,
   "metadata": {},
   "outputs": [
    {
     "data": {
      "text/plain": [
       "array([[ 0,  1,  1,  1,  1,  1,  1],\n",
       "       [-1,  0,  0,  1,  1,  1,  1],\n",
       "       [-1,  0,  0,  1,  1,  1,  1],\n",
       "       [-1, -1, -1,  0,  1,  1,  1],\n",
       "       [-1, -1, -1, -1,  0,  0,  1],\n",
       "       [-1, -1, -1, -1,  0,  0,  1],\n",
       "       [-1, -1, -1, -1, -1, -1,  0]])"
      ]
     },
     "execution_count": 3,
     "metadata": {},
     "output_type": "execute_result"
    }
   ],
   "source": [
    "# construct an array with the expected signs\n",
    "# positive values mean the row node expects to be to the EAST of the column node\n",
    "# negative values mean the row node expects to be to the WEST of the column node\n",
    "# zeros indicate we have no particular expectation of the east-west relation, i.e. they should be approximatly the same position on the EAST-WEST axis\n",
    "\n",
    "# \tNose\tLeftEar\tRightEar\tNeck\tLeftHip\tRightHip\tTailBase\n",
    "# Nose\t0\t1\t1\t1\t1\t1\t1\n",
    "# LeftEar\t-1\t0\t0\t1\t1\t1\t1\n",
    "# RightEar\t-1\t0\t0\t1\t1\t1\t1\n",
    "# Neck\t-1\t-1\t-1\t0\t1\t1\t1\n",
    "# LeftHip\t-1\t-1\t-1\t-1\t0\t0\t1\n",
    "# RightHip\t-1\t-1\t-1\t-1\t0\t0\t1\n",
    "# TailBase\t-1\t-1\t-1\t-1\t-1\t-1\t0\n",
    "\n",
    "expected_alignment = np.array([\n",
    "    [ 0,  1,  1,  1,  1,  1,  1],\n",
    "    [-1,  0,  0,  1,  1,  1,  1],\n",
    "    [-1,  0,  0,  1,  1,  1,  1],\n",
    "    [-1, -1, -1,  0,  1,  1,  1],\n",
    "    [-1, -1, -1, -1,  0,  0,  1],\n",
    "    [-1, -1, -1, -1,  0,  0,  1],\n",
    "    [-1, -1, -1, -1, -1, -1,  0]\n",
    "])\n",
    "expected_alignment"
   ]
  },
  {
   "cell_type": "code",
   "execution_count": 16,
   "metadata": {},
   "outputs": [],
   "source": [
    "def calc_keypoint_keypoint_distance(keypoints: np.ndarray, metric: str = 'x') -> np.ndarray:\n",
    "    '''Calculate a distance matrix for each keypoint against others\n",
    "\n",
    "    Parameters:\n",
    "    kaypoints (np.ndarray): array of keypoint data, of shape (nkeypoints, [at least 2: x, y]) or (nframes, nkeypoints, [at least 2: x, y])\n",
    "    metric (str): one of {euclidean, x, y}, type of distance to calculate\n",
    "    '''\n",
    "    if len(keypoints.shape) == 3:\n",
    "        dist = np.ndarray((keypoints.shape[0], keypoints.shape[1], keypoints.shape[1]), dtype=float)\n",
    "    else:\n",
    "        dist = np.ndarray((keypoints.shape[0], keypoints.shape[0]), dtype=float)\n",
    "\n",
    "    for i in range(dist.shape[-1]):\n",
    "        for j in range(dist.shape[-1]):\n",
    "            if metric == 'euclidean':\n",
    "                dist[:, i, j] = np.sqrt(((keypoints[:, i, 0] - keypoints[:, j, 0])**2) + ((keypoints[:, i, 1] - keypoints[:, j, 1])**2))\n",
    "\n",
    "            elif metric == 'x':\n",
    "                dist[..., i, j] = keypoints[..., i, 0] - keypoints[..., j, 0]\n",
    "\n",
    "            elif metric == 'y':\n",
    "                dist[..., i, j] = keypoints[..., i, 1] - keypoints[..., j, 1]\n",
    "\n",
    "    return dist\n",
    "\n",
    "\n",
    "def compute_keypoint_alignment_scores(keypoints, expected_alignment):\n",
    "    # calculate keypoint-keypoint distances, and take only the signs\n",
    "    distances = calc_keypoint_keypoint_distance(keypoints)\n",
    "    distance_signs = np.sign(distances)\n",
    "\n",
    "    # mask to zeros keypoint pairs for which we do not have strong expectations\n",
    "    masked_distance_signs = np.where(expected_alignment == 0, 0, distance_signs)\n",
    "\n",
    "    # compute number of keypoint pairs which agree with our expectations, subtracting those which we do not have strong expectations for\n",
    "    axis = (1, 2) if len(keypoints.shape) == 3 else None\n",
    "    num_expectations_met = np.count_nonzero(masked_distance_signs == expected_alignment, axis=axis) - np.count_nonzero(expected_alignment == 0)\n",
    "\n",
    "    # generate scores by normalizing to the number of keypoint pairs for which we have a strong expectation\n",
    "    scores = num_expectations_met / np.count_nonzero(expected_alignment)\n",
    "\n",
    "    # finally return scores\n",
    "    return scores"
   ]
  },
  {
   "cell_type": "code",
   "execution_count": 17,
   "metadata": {},
   "outputs": [
    {
     "data": {
      "text/plain": [
       "1.0"
      ]
     },
     "execution_count": 17,
     "metadata": {},
     "output_type": "execute_result"
    }
   ],
   "source": [
    "# single frame of keypoints, of shape (nkeypoints, 3)\n",
    "compute_flips(kpts[0], expected_alignment)"
   ]
  },
  {
   "cell_type": "code",
   "execution_count": 20,
   "metadata": {},
   "outputs": [
    {
     "data": {
      "text/plain": [
       "array([1., 1., 1., ..., 1., 1., 1.])"
      ]
     },
     "execution_count": 20,
     "metadata": {},
     "output_type": "execute_result"
    }
   ],
   "source": [
    "# many frames of keypoints, of shape (nframes, nkeypoints, 3)\n",
    "compute_flips(kpts, expected_alignment)"
   ]
  },
  {
   "cell_type": "code",
   "execution_count": 21,
   "metadata": {},
   "outputs": [
    {
     "data": {
      "text/plain": [
       "<seaborn.axisgrid.FacetGrid at 0x19f32634cd0>"
      ]
     },
     "execution_count": 21,
     "metadata": {},
     "output_type": "execute_result"
    },
    {
     "data": {
      "image/png": "[encoded data removed]",
      "text/plain": [
       "<Figure size 360x360 with 1 Axes>"
      ]
     },
     "metadata": {
      "needs_background": "light"
     },
     "output_type": "display_data"
    }
   ],
   "source": [
    "sns.displot(compute_flips(kpts, expected_alignment))"
   ]
  },
  {
   "cell_type": "code",
   "execution_count": 22,
   "metadata": {},
   "outputs": [
    {
     "data": {
      "text/plain": [
       "(array([ 9211, 22295, 22296, ..., 33553, 35917, 35948], dtype=int64),)"
      ]
     },
     "execution_count": 22,
     "metadata": {},
     "output_type": "execute_result"
    }
   ],
   "source": [
    "np.where(compute_flips(kpts, expected_alignment) == 0)"
   ]
  },
  {
   "cell_type": "code",
   "execution_count": 26,
   "metadata": {},
   "outputs": [
    {
     "data": {
      "text/plain": [
       "<seaborn.axisgrid.FacetGrid at 0x19f33940340>"
      ]
     },
     "execution_count": 26,
     "metadata": {},
     "output_type": "execute_result"
    },
    {
     "data": {
      "image/png": "[encoded data removed]",
      "text/plain": [
       "<Figure size 360x360 with 1 Axes>"
      ]
     },
     "metadata": {
      "needs_background": "light"
     },
     "output_type": "display_data"
    }
   ],
   "source": [
    "sns.displot(np.diff(kpts[:, :, :2], axis=0)[:,:,0].ravel())"
   ]
  },
  {
   "cell_type": "code",
   "execution_count": 34,
   "metadata": {},
   "outputs": [
    {
     "data": {
      "text/plain": [
       "array([[ 12.64243877,   5.90862942],\n",
       "       [  5.86471754,  -6.26074056],\n",
       "       [ -4.20991623,   3.07722521],\n",
       "       [ -1.78661299,  -4.86296326],\n",
       "       [ -6.90989065, -12.31468678],\n",
       "       [-13.59203756,  -6.10597515],\n",
       "       [-15.36178064, -12.24201846]])"
      ]
     },
     "execution_count": 34,
     "metadata": {},
     "output_type": "execute_result"
    }
   ],
   "source": [
    "good = 22289\n",
    "bad = 22291\n",
    "kpts[good, :, :2] - kpts[bad, :, :2]"
   ]
  },
  {
   "cell_type": "code",
   "execution_count": 43,
   "metadata": {},
   "outputs": [
    {
     "data": {
      "text/plain": [
       "array([87.76844491, 83.47120835, 62.7225871 , 84.42756707, 77.33059172,\n",
       "       92.8114129 , 86.95275328])"
      ]
     },
     "execution_count": 43,
     "metadata": {},
     "output_type": "execute_result"
    }
   ],
   "source": [
    "o1 = kpts[good, :, :2]# - centroids[good, :]\n",
    "o2 = kpts[bad, :, :2]# - centroids[bad, :]\n",
    "\n",
    "\n",
    "a1 = np.arctan2(o1[..., 1], o1[..., 0])\n",
    "a2 = np.arctan2(o2[..., 1], o2[..., 0])\n",
    "a = a1 - a2\n",
    "\n",
    "#cosine_angle = np.dot(o1[i], o2[i]) / (np.linalg.norm(o1[i]) * np.linalg.norm(o2[i]))\n",
    "#angle = np.arccos(cosine_angle)\n",
    "\n",
    "angles = clamp_angles(np.degrees(a))\n",
    "\n",
    "angles"
   ]
  },
  {
   "cell_type": "code",
   "execution_count": 40,
   "metadata": {},
   "outputs": [
    {
     "data": {
      "text/plain": [
       "82.21208076117678"
      ]
     },
     "execution_count": 40,
     "metadata": {},
     "output_type": "execute_result"
    }
   ],
   "source": [
    "np.mean(angles)"
   ]
  },
  {
   "cell_type": "code",
   "execution_count": 41,
   "metadata": {},
   "outputs": [
    {
     "data": {
      "text/plain": [
       "84.42756707430726"
      ]
     },
     "execution_count": 41,
     "metadata": {},
     "output_type": "execute_result"
    }
   ],
   "source": [
    "np.median(angles)"
   ]
  },
  {
   "cell_type": "code",
   "execution_count": 59,
   "metadata": {},
   "outputs": [
    {
     "data": {
      "text/plain": [
       "(35999, 7)"
      ]
     },
     "execution_count": 59,
     "metadata": {},
     "output_type": "execute_result"
    }
   ],
   "source": [
    "angles = np.arctan2(kpts[..., 1], kpts[..., 0])\n",
    "angles = clamp_angles(np.rad2deg(angles))\n",
    "angles = np.diff(angles, axis=0, prepend=angles[0,None,...])\n",
    "angles.shape"
   ]
  },
  {
   "cell_type": "code",
   "execution_count": 57,
   "metadata": {},
   "outputs": [
    {
     "data": {
      "text/plain": [
       "array([ 0.        , -0.01589338,  0.04177816, ..., -0.07437256,\n",
       "        0.08042789, -0.02527371])"
      ]
     },
     "execution_count": 57,
     "metadata": {},
     "output_type": "execute_result"
    }
   ],
   "source": [
    "angles.mean(axis=1)"
   ]
  },
  {
   "cell_type": "code",
   "execution_count": 66,
   "metadata": {},
   "outputs": [
    {
     "data": {
      "text/plain": [
       "<seaborn.axisgrid.FacetGrid at 0x19f3635de80>"
      ]
     },
     "execution_count": 66,
     "metadata": {},
     "output_type": "execute_result"
    },
    {
     "data": {
      "image/png": "[encoded data removed]",
      "text/plain": [
       "<Figure size 360x360 with 1 Axes>"
      ]
     },
     "metadata": {
      "needs_background": "light"
     },
     "output_type": "display_data"
    }
   ],
   "source": [
    "sns.displot(np.median(angles, axis=1))"
   ]
  },
  {
   "cell_type": "code",
   "execution_count": 68,
   "metadata": {},
   "outputs": [
    {
     "data": {
      "text/plain": [
       "(array([29613], dtype=int64),)"
      ]
     },
     "execution_count": 68,
     "metadata": {},
     "output_type": "execute_result"
    }
   ],
   "source": [
    "np.where((np.median(angles, axis=1) < -200))"
   ]
  },
  {
   "cell_type": "code",
   "execution_count": 79,
   "metadata": {},
   "outputs": [],
   "source": [
    "def estimate_keypoint_rotation(keypoints):\n",
    "    '''Estimate the relative rotation between subsequent sets of keypoints\n",
    "\n",
    "    Parameters:\n",
    "    keypoints (np.ndarray): keypoints, of shape (nframes, nkeypoints, at least 2)\n",
    "    '''\n",
    "    angles = np.arctan2(keypoints[..., 1], keypoints[..., 0])\n",
    "    angles = clamp_angles(np.rad2deg(angles))\n",
    "    angles = np.diff(angles, axis=0, prepend=angles[0,None,...])\n",
    "    print(angles.shape)\n",
    "    angles = angles % 360\n",
    "    to_min = angles > 180\n",
    "    angles[to_min] = -(360 - angles[to_min])\n",
    "    print(angles.shape)\n",
    "    return np.median(angles, axis=1)"
   ]
  },
  {
   "cell_type": "code",
   "execution_count": 80,
   "metadata": {},
   "outputs": [
    {
     "name": "stdout",
     "output_type": "stream",
     "text": [
      "(35999, 7)\n",
      "(35999, 7)\n"
     ]
    },
    {
     "data": {
      "text/plain": [
       "<seaborn.axisgrid.FacetGrid at 0x19f40763dc0>"
      ]
     },
     "execution_count": 80,
     "metadata": {},
     "output_type": "execute_result"
    },
    {
     "data": {
      "image/png": "[encoded data removed]",
      "text/plain": [
       "<Figure size 360x360 with 1 Axes>"
      ]
     },
     "metadata": {
      "needs_background": "light"
     },
     "output_type": "display_data"
    }
   ],
   "source": [
    "sns.displot(estimate_keypoint_rotation(kpts))"
   ]
  },
  {
   "cell_type": "code",
   "execution_count": 81,
   "metadata": {},
   "outputs": [
    {
     "name": "stdout",
     "output_type": "stream",
     "text": [
      "(35999, 7)\n",
      "(35999, 7)\n"
     ]
    },
    {
     "data": {
      "text/plain": [
       "(array([ 9208,  9212, 11631, 11632, 13041, 14175, 22202, 24990, 25330,\n",
       "        28732, 28853, 29537, 29608, 29614, 29733, 29739, 29752, 29761,\n",
       "        29762, 29889, 29914, 30026, 30043, 30131, 30217, 30269, 30275,\n",
       "        30469, 30788, 31035, 31201, 31207, 33212, 33315, 33343, 33351,\n",
       "        33352, 33546, 35930, 35952], dtype=int64),)"
      ]
     },
     "execution_count": 81,
     "metadata": {},
     "output_type": "execute_result"
    }
   ],
   "source": [
    "np.where(estimate_keypoint_rotation(kpts) > 45)"
   ]
  },
  {
   "cell_type": "code",
   "execution_count": null,
   "metadata": {},
   "outputs": [],
   "source": []
  }
 ],
 "metadata": {
  "kernelspec": {
   "display_name": "moseq-detectron",
   "language": "python",
   "name": "python3"
  },
  "language_info": {
   "codemirror_mode": {
    "name": "ipython",
    "version": 3
   },
   "file_extension": ".py",
   "mimetype": "text/x-python",
   "name": "python",
   "nbconvert_exporter": "python",
   "pygments_lexer": "ipython3",
   "version": "3.8.12"
  },
  "orig_nbformat": 4,
  "vscode": {
   "interpreter": {
    "hash": "00e1def8bdb712f0981561fe225a43c0f558351f93494a034a5af522e2e275be"
   }
  }
 },
 "nbformat": 4,
 "nbformat_minor": 2
}
