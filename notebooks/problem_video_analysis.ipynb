{
 "cells": [
  {
   "cell_type": "code",
   "execution_count": 1,
   "metadata": {},
   "outputs": [],
   "source": [
    "import pandas as pd\n",
    "import re\n",
    "import seaborn as sns\n",
    "import os\n",
    "import matplotlib.pyplot as plt"
   ]
  },
  {
   "cell_type": "code",
   "execution_count": 6,
   "metadata": {},
   "outputs": [
    {
     "data": {
      "text/html": [
       "<div>\n",
       "<style scoped>\n",
       "    .dataframe tbody tr th:only-of-type {\n",
       "        vertical-align: middle;\n",
       "    }\n",
       "\n",
       "    .dataframe tbody tr th {\n",
       "        vertical-align: top;\n",
       "    }\n",
       "\n",
       "    .dataframe thead th {\n",
       "        text-align: right;\n",
       "    }\n",
       "</style>\n",
       "<table border=\"1\" class=\"dataframe\">\n",
       "  <thead>\n",
       "    <tr style=\"text-align: right;\">\n",
       "      <th></th>\n",
       "      <th>Lab</th>\n",
       "      <th>Animal_ID</th>\n",
       "      <th>Session_ID</th>\n",
       "      <th>Fixed?</th>\n",
       "      <th>Needs Re-review?</th>\n",
       "      <th>Problem</th>\n",
       "      <th>Problem Class</th>\n",
       "      <th>Resolution</th>\n",
       "    </tr>\n",
       "  </thead>\n",
       "  <tbody>\n",
       "    <tr>\n",
       "      <th>0</th>\n",
       "      <td>Abraira</td>\n",
       "      <td>20MOS02B</td>\n",
       "      <td>session_20201207131908</td>\n",
       "      <td>False</td>\n",
       "      <td>NaN</td>\n",
       "      <td>something other than the mouse is being tracke...</td>\n",
       "      <td>invalid pixels\\r\\nblob tracked</td>\n",
       "      <td>NaN</td>\n",
       "    </tr>\n",
       "    <tr>\n",
       "      <th>1</th>\n",
       "      <td>Abraira</td>\n",
       "      <td>20MOS10</td>\n",
       "      <td>session_20200814141315</td>\n",
       "      <td>False</td>\n",
       "      <td>NaN</td>\n",
       "      <td>Mouse is not in frame: 13072-13074, 31659. Fra...</td>\n",
       "      <td>invalid pixels</td>\n",
       "      <td>frames 13072-13074: mouse is just mid-jump - T...</td>\n",
       "    </tr>\n",
       "    <tr>\n",
       "      <th>2</th>\n",
       "      <td>Abraira</td>\n",
       "      <td>20MOS10</td>\n",
       "      <td>session_20201005143110</td>\n",
       "      <td>True</td>\n",
       "      <td>NaN</td>\n",
       "      <td>Frame 32892 looks corrupted, there's a big ban...</td>\n",
       "      <td>invalid pixels</td>\n",
       "      <td>2022-12-19: reprocessed with inpainting of inv...</td>\n",
       "    </tr>\n",
       "    <tr>\n",
       "      <th>3</th>\n",
       "      <td>Abraira</td>\n",
       "      <td>20MOS11</td>\n",
       "      <td>session_20200820122140</td>\n",
       "      <td>False</td>\n",
       "      <td>NaN</td>\n",
       "      <td>12965-12966 #something else being detected</td>\n",
       "      <td>blob tracked</td>\n",
       "      <td>NaN</td>\n",
       "    </tr>\n",
       "    <tr>\n",
       "      <th>4</th>\n",
       "      <td>Abraira</td>\n",
       "      <td>20MOS22</td>\n",
       "      <td>session_20200916122659</td>\n",
       "      <td>True</td>\n",
       "      <td>Yes</td>\n",
       "      <td>PyTorch failure to open shared event. probably...</td>\n",
       "      <td>memory error</td>\n",
       "      <td>re-ran extraction with no issues</td>\n",
       "    </tr>\n",
       "    <tr>\n",
       "      <th>...</th>\n",
       "      <td>...</td>\n",
       "      <td>...</td>\n",
       "      <td>...</td>\n",
       "      <td>...</td>\n",
       "      <td>...</td>\n",
       "      <td>...</td>\n",
       "      <td>...</td>\n",
       "      <td>...</td>\n",
       "    </tr>\n",
       "    <tr>\n",
       "      <th>368</th>\n",
       "      <td>Tysseling</td>\n",
       "      <td>NU1_M9</td>\n",
       "      <td>session_20210824115411</td>\n",
       "      <td>False</td>\n",
       "      <td>NaN</td>\n",
       "      <td>28243-28244 #mouse not observed</td>\n",
       "      <td>failure to find ROI</td>\n",
       "      <td>NaN</td>\n",
       "    </tr>\n",
       "    <tr>\n",
       "      <th>369</th>\n",
       "      <td>Abraira</td>\n",
       "      <td>21MOS14</td>\n",
       "      <td>session_20210324132821</td>\n",
       "      <td>NaN</td>\n",
       "      <td>NaN</td>\n",
       "      <td>grey dot interfereing for entirety of video ne...</td>\n",
       "      <td>invalid pixels</td>\n",
       "      <td>NaN</td>\n",
       "    </tr>\n",
       "    <tr>\n",
       "      <th>370</th>\n",
       "      <td>Hollis</td>\n",
       "      <td>RU13</td>\n",
       "      <td>session_20210520100750</td>\n",
       "      <td>False</td>\n",
       "      <td>NaN</td>\n",
       "      <td>34671, 34673, 34675 #something else being tracked</td>\n",
       "      <td>invalid pixels</td>\n",
       "      <td>NaN</td>\n",
       "    </tr>\n",
       "    <tr>\n",
       "      <th>371</th>\n",
       "      <td>Tysseling</td>\n",
       "      <td>NU1_M17</td>\n",
       "      <td>session_20210819151518</td>\n",
       "      <td>False</td>\n",
       "      <td>NaN</td>\n",
       "      <td>#mouse is there in the bucket but not in the b...</td>\n",
       "      <td>detection failure</td>\n",
       "      <td>NaN</td>\n",
       "    </tr>\n",
       "    <tr>\n",
       "      <th>372</th>\n",
       "      <td>Hollis</td>\n",
       "      <td>RU9</td>\n",
       "      <td>session_20210421121235</td>\n",
       "      <td>False</td>\n",
       "      <td>NaN</td>\n",
       "      <td>34901-34902 #mouse not observed\\r\\n34912 #lots...</td>\n",
       "      <td>detection failure\\r\\ninvalid pixels\\r\\nblob tr...</td>\n",
       "      <td>NaN</td>\n",
       "    </tr>\n",
       "  </tbody>\n",
       "</table>\n",
       "<p>373 rows × 8 columns</p>\n",
       "</div>"
      ],
      "text/plain": [
       "           Lab Animal_ID              Session_ID Fixed? Needs Re-review?  \\\n",
       "0      Abraira  20MOS02B  session_20201207131908  False              NaN   \n",
       "1      Abraira   20MOS10  session_20200814141315  False              NaN   \n",
       "2      Abraira   20MOS10  session_20201005143110   True              NaN   \n",
       "3      Abraira   20MOS11  session_20200820122140  False              NaN   \n",
       "4      Abraira   20MOS22  session_20200916122659   True              Yes   \n",
       "..         ...       ...                     ...    ...              ...   \n",
       "368  Tysseling    NU1_M9  session_20210824115411  False              NaN   \n",
       "369    Abraira   21MOS14  session_20210324132821    NaN              NaN   \n",
       "370     Hollis      RU13  session_20210520100750  False              NaN   \n",
       "371  Tysseling   NU1_M17  session_20210819151518  False              NaN   \n",
       "372     Hollis       RU9  session_20210421121235  False              NaN   \n",
       "\n",
       "                                               Problem  \\\n",
       "0    something other than the mouse is being tracke...   \n",
       "1    Mouse is not in frame: 13072-13074, 31659. Fra...   \n",
       "2    Frame 32892 looks corrupted, there's a big ban...   \n",
       "3           12965-12966 #something else being detected   \n",
       "4    PyTorch failure to open shared event. probably...   \n",
       "..                                                 ...   \n",
       "368                    28243-28244 #mouse not observed   \n",
       "369  grey dot interfereing for entirety of video ne...   \n",
       "370  34671, 34673, 34675 #something else being tracked   \n",
       "371  #mouse is there in the bucket but not in the b...   \n",
       "372  34901-34902 #mouse not observed\\r\\n34912 #lots...   \n",
       "\n",
       "                                         Problem Class  \\\n",
       "0                       invalid pixels\\r\\nblob tracked   \n",
       "1                                       invalid pixels   \n",
       "2                                       invalid pixels   \n",
       "3                                         blob tracked   \n",
       "4                                         memory error   \n",
       "..                                                 ...   \n",
       "368                                failure to find ROI   \n",
       "369                                     invalid pixels   \n",
       "370                                     invalid pixels   \n",
       "371                                  detection failure   \n",
       "372  detection failure\\r\\ninvalid pixels\\r\\nblob tr...   \n",
       "\n",
       "                                            Resolution  \n",
       "0                                                  NaN  \n",
       "1    frames 13072-13074: mouse is just mid-jump - T...  \n",
       "2    2022-12-19: reprocessed with inpainting of inv...  \n",
       "3                                                  NaN  \n",
       "4                     re-ran extraction with no issues  \n",
       "..                                                 ...  \n",
       "368                                                NaN  \n",
       "369                                                NaN  \n",
       "370                                                NaN  \n",
       "371                                                NaN  \n",
       "372                                                NaN  \n",
       "\n",
       "[373 rows x 8 columns]"
      ]
     },
     "execution_count": 6,
     "metadata": {},
     "output_type": "execute_result"
    }
   ],
   "source": [
    "df = pd.read_csv(r\"F:\\moseq\\Spinal_Cord_Injury-C57BL6\\missed_detections.tsv\", sep=\"\\t\")\n",
    "df"
   ]
  },
  {
   "cell_type": "code",
   "execution_count": 27,
   "metadata": {},
   "outputs": [],
   "source": [
    "def get_problem_classes(df):\n",
    "    classes = []\n",
    "    for i, row in df.iterrows():\n",
    "        classes.extend(get_problem_classes_for_row(row))\n",
    "    return list(set(classes))\n",
    "\n",
    "def get_problem_classes_for_row(row):\n",
    "    row_classes = str(row['Problem Class']).split('\\r\\n')\n",
    "    row_classes = filter(lambda klass: klass not in ['', 'nan'], row_classes)\n",
    "    return list(set(row_classes))\n",
    "\n",
    "def has_problem_class(row, klass):\n",
    "    if isinstance(klass, str):\n",
    "        klass = [klass]\n",
    "    row_classes = get_problem_classes_for_row(row)\n",
    "    return len(set(klass).intersection(set(row_classes))) > 0\n",
    "\n",
    "def parse_ranges(data):\n",
    "    matches = re.findall(r\"(\\d+-\\d+)|(\\d+)\", data)\n",
    "    results = []\n",
    "    for m in matches:\n",
    "        #print(m)\n",
    "        if m[0] != '':\n",
    "            parts = [int(k) for k in m[0].split('-')]\n",
    "            results.extend(list(range(*parts)))\n",
    "        elif m[1] != '':\n",
    "            results.append(int(m[1]))\n",
    "    return results\n",
    "\n",
    "def sessions_with_problem_classes(df, classes_to_pick):\n",
    "    sessions = []\n",
    "    for i, row in df.iterrows():\n",
    "        if has_problem_class(row, classes_to_pick):\n",
    "            sessions.append({\n",
    "                'Lab': row['Lab'],\n",
    "                'Animal_ID': row['Animal_ID'],\n",
    "                'Session_ID': row['Session_ID'],\n",
    "                'Frames': parse_ranges(row['Problem'])\n",
    "            })\n",
    "    return sessions"
   ]
  },
  {
   "cell_type": "code",
   "execution_count": 8,
   "metadata": {},
   "outputs": [
    {
     "data": {
      "text/plain": [
       "['detection failure',\n",
       " 'unknown',\n",
       " 'frame rate drop',\n",
       " 'invalid pixels',\n",
       " 'no problem',\n",
       " 'sensor error',\n",
       " 'blob tracked',\n",
       " 'failure to find ROI',\n",
       " 'IR reflection',\n",
       " 'memory error']"
      ]
     },
     "execution_count": 8,
     "metadata": {},
     "output_type": "execute_result"
    }
   ],
   "source": [
    "get_problem_classes(df)"
   ]
  },
  {
   "cell_type": "code",
   "execution_count": 9,
   "metadata": {},
   "outputs": [
    {
     "data": {
      "text/html": [
       "<div>\n",
       "<style scoped>\n",
       "    .dataframe tbody tr th:only-of-type {\n",
       "        vertical-align: middle;\n",
       "    }\n",
       "\n",
       "    .dataframe tbody tr th {\n",
       "        vertical-align: top;\n",
       "    }\n",
       "\n",
       "    .dataframe thead th {\n",
       "        text-align: right;\n",
       "    }\n",
       "</style>\n",
       "<table border=\"1\" class=\"dataframe\">\n",
       "  <thead>\n",
       "    <tr style=\"text-align: right;\">\n",
       "      <th></th>\n",
       "      <th>Lab</th>\n",
       "      <th>Animal_ID</th>\n",
       "      <th>Session_ID</th>\n",
       "      <th>Problem</th>\n",
       "      <th>Num_Frames</th>\n",
       "    </tr>\n",
       "  </thead>\n",
       "  <tbody>\n",
       "    <tr>\n",
       "      <th>0</th>\n",
       "      <td>Abraira</td>\n",
       "      <td>20MOS02B</td>\n",
       "      <td>session_20201207131908</td>\n",
       "      <td>invalid pixels</td>\n",
       "      <td>5</td>\n",
       "    </tr>\n",
       "    <tr>\n",
       "      <th>1</th>\n",
       "      <td>Abraira</td>\n",
       "      <td>20MOS02B</td>\n",
       "      <td>session_20201207131908</td>\n",
       "      <td>blob tracked</td>\n",
       "      <td>5</td>\n",
       "    </tr>\n",
       "    <tr>\n",
       "      <th>2</th>\n",
       "      <td>Abraira</td>\n",
       "      <td>20MOS10</td>\n",
       "      <td>session_20200814141315</td>\n",
       "      <td>invalid pixels</td>\n",
       "      <td>4</td>\n",
       "    </tr>\n",
       "    <tr>\n",
       "      <th>3</th>\n",
       "      <td>Abraira</td>\n",
       "      <td>20MOS10</td>\n",
       "      <td>session_20201005143110</td>\n",
       "      <td>invalid pixels</td>\n",
       "      <td>1</td>\n",
       "    </tr>\n",
       "    <tr>\n",
       "      <th>4</th>\n",
       "      <td>Abraira</td>\n",
       "      <td>20MOS11</td>\n",
       "      <td>session_20200820122140</td>\n",
       "      <td>blob tracked</td>\n",
       "      <td>1</td>\n",
       "    </tr>\n",
       "    <tr>\n",
       "      <th>...</th>\n",
       "      <td>...</td>\n",
       "      <td>...</td>\n",
       "      <td>...</td>\n",
       "      <td>...</td>\n",
       "      <td>...</td>\n",
       "    </tr>\n",
       "    <tr>\n",
       "      <th>407</th>\n",
       "      <td>Hollis</td>\n",
       "      <td>RU13</td>\n",
       "      <td>session_20210520100750</td>\n",
       "      <td>invalid pixels</td>\n",
       "      <td>3</td>\n",
       "    </tr>\n",
       "    <tr>\n",
       "      <th>408</th>\n",
       "      <td>Tysseling</td>\n",
       "      <td>NU1_M17</td>\n",
       "      <td>session_20210819151518</td>\n",
       "      <td>detection failure</td>\n",
       "      <td>4571</td>\n",
       "    </tr>\n",
       "    <tr>\n",
       "      <th>409</th>\n",
       "      <td>Hollis</td>\n",
       "      <td>RU9</td>\n",
       "      <td>session_20210421121235</td>\n",
       "      <td>detection failure</td>\n",
       "      <td>10</td>\n",
       "    </tr>\n",
       "    <tr>\n",
       "      <th>410</th>\n",
       "      <td>Hollis</td>\n",
       "      <td>RU9</td>\n",
       "      <td>session_20210421121235</td>\n",
       "      <td>invalid pixels</td>\n",
       "      <td>10</td>\n",
       "    </tr>\n",
       "    <tr>\n",
       "      <th>411</th>\n",
       "      <td>Hollis</td>\n",
       "      <td>RU9</td>\n",
       "      <td>session_20210421121235</td>\n",
       "      <td>blob tracked</td>\n",
       "      <td>10</td>\n",
       "    </tr>\n",
       "  </tbody>\n",
       "</table>\n",
       "<p>412 rows × 5 columns</p>\n",
       "</div>"
      ],
      "text/plain": [
       "           Lab Animal_ID              Session_ID            Problem  \\\n",
       "0      Abraira  20MOS02B  session_20201207131908     invalid pixels   \n",
       "1      Abraira  20MOS02B  session_20201207131908       blob tracked   \n",
       "2      Abraira   20MOS10  session_20200814141315     invalid pixels   \n",
       "3      Abraira   20MOS10  session_20201005143110     invalid pixels   \n",
       "4      Abraira   20MOS11  session_20200820122140       blob tracked   \n",
       "..         ...       ...                     ...                ...   \n",
       "407     Hollis      RU13  session_20210520100750     invalid pixels   \n",
       "408  Tysseling   NU1_M17  session_20210819151518  detection failure   \n",
       "409     Hollis       RU9  session_20210421121235  detection failure   \n",
       "410     Hollis       RU9  session_20210421121235     invalid pixels   \n",
       "411     Hollis       RU9  session_20210421121235       blob tracked   \n",
       "\n",
       "     Num_Frames  \n",
       "0             5  \n",
       "1             5  \n",
       "2             4  \n",
       "3             1  \n",
       "4             1  \n",
       "..          ...  \n",
       "407           3  \n",
       "408        4571  \n",
       "409          10  \n",
       "410          10  \n",
       "411          10  \n",
       "\n",
       "[412 rows x 5 columns]"
      ]
     },
     "execution_count": 9,
     "metadata": {},
     "output_type": "execute_result"
    }
   ],
   "source": [
    "counts = []\n",
    "for i, row in df.iterrows():\n",
    "    for klass in get_problem_classes_for_row(row):\n",
    "        counts.append({\n",
    "            'Lab': row['Lab'],\n",
    "            'Animal_ID': row['Animal_ID'],\n",
    "            'Session_ID': row['Session_ID'],\n",
    "            'Problem': klass,\n",
    "            'Num_Frames': len(parse_ranges(row['Problem']))\n",
    "        })\n",
    "counts = pd.DataFrame(counts)\n",
    "counts"
   ]
  },
  {
   "cell_type": "code",
   "execution_count": 10,
   "metadata": {},
   "outputs": [
    {
     "data": {
      "text/plain": [
       "([0, 1, 2, 3, 4, 5, 6, 7, 8, 9],\n",
       " [Text(0, 0, ''),\n",
       "  Text(0, 0, ''),\n",
       "  Text(0, 0, ''),\n",
       "  Text(0, 0, ''),\n",
       "  Text(0, 0, ''),\n",
       "  Text(0, 0, ''),\n",
       "  Text(0, 0, ''),\n",
       "  Text(0, 0, ''),\n",
       "  Text(0, 0, ''),\n",
       "  Text(0, 0, '')])"
      ]
     },
     "execution_count": 10,
     "metadata": {},
     "output_type": "execute_result"
    },
    {
     "data": {
      "image/png": "[encoded data removed]",
      "text/plain": [
       "<Figure size 432x288 with 1 Axes>"
      ]
     },
     "metadata": {
      "needs_background": "light"
     },
     "output_type": "display_data"
    }
   ],
   "source": [
    "ax = sns.histplot(data=counts, stat='count', multiple=\"stack\", x='Problem', hue='Lab')\n",
    "plt.xticks(rotation=90, ha='right')"
   ]
  },
  {
   "cell_type": "code",
   "execution_count": 11,
   "metadata": {},
   "outputs": [
    {
     "data": {
      "text/plain": [
       "([0, 1, 2, 3],\n",
       " [Text(0, 0, ''), Text(0, 0, ''), Text(0, 0, ''), Text(0, 0, '')])"
      ]
     },
     "execution_count": 11,
     "metadata": {},
     "output_type": "execute_result"
    },
    {
     "data": {
      "image/png": "[encoded data removed]",
      "text/plain": [
       "<Figure size 432x288 with 1 Axes>"
      ]
     },
     "metadata": {
      "needs_background": "light"
     },
     "output_type": "display_data"
    }
   ],
   "source": [
    "ax = sns.histplot(data=counts, stat='count', multiple=\"stack\", x='Lab', hue='Problem')\n",
    "sns.move_legend(ax, \"upper left\", bbox_to_anchor=(1, 1))\n",
    "plt.xticks(rotation=90, ha='right')"
   ]
  },
  {
   "cell_type": "code",
   "execution_count": 12,
   "metadata": {},
   "outputs": [
    {
     "ename": "TypeError",
     "evalue": "wide_to_long() got an unexpected keyword argument 'id_vars'",
     "output_type": "error",
     "traceback": [
      "\u001b[1;31m---------------------------------------------------------------------------\u001b[0m",
      "\u001b[1;31mTypeError\u001b[0m                                 Traceback (most recent call last)",
      "\u001b[1;32m~\\AppData\\Local\\Temp/ipykernel_175224/2271079594.py\u001b[0m in \u001b[0;36m<module>\u001b[1;34m\u001b[0m\n\u001b[1;32m----> 1\u001b[1;33m \u001b[0mpd\u001b[0m\u001b[1;33m.\u001b[0m\u001b[0mwide_to_long\u001b[0m\u001b[1;33m(\u001b[0m\u001b[0mpd\u001b[0m\u001b[1;33m.\u001b[0m\u001b[0mpivot_table\u001b[0m\u001b[1;33m(\u001b[0m\u001b[0mcounts\u001b[0m\u001b[1;33m,\u001b[0m \u001b[0mvalues\u001b[0m\u001b[1;33m=\u001b[0m\u001b[1;34m'Num_Frames'\u001b[0m\u001b[1;33m,\u001b[0m \u001b[0mindex\u001b[0m\u001b[1;33m=\u001b[0m\u001b[1;34m'Problem'\u001b[0m\u001b[1;33m,\u001b[0m \u001b[0mcolumns\u001b[0m\u001b[1;33m=\u001b[0m\u001b[1;34m'Lab'\u001b[0m\u001b[1;33m,\u001b[0m \u001b[0maggfunc\u001b[0m\u001b[1;33m=\u001b[0m\u001b[1;34m'sum'\u001b[0m\u001b[1;33m)\u001b[0m\u001b[1;33m,\u001b[0m \u001b[0mid_vars\u001b[0m\u001b[1;33m=\u001b[0m\u001b[1;33m[\u001b[0m\u001b[1;33m]\u001b[0m\u001b[1;33m)\u001b[0m\u001b[1;33m\u001b[0m\u001b[1;33m\u001b[0m\u001b[0m\n\u001b[0m",
      "\u001b[1;31mTypeError\u001b[0m: wide_to_long() got an unexpected keyword argument 'id_vars'"
     ]
    }
   ],
   "source": [
    "pd.wide_to_long(pd.pivot_table(counts, values='Num_Frames', index='Problem', columns='Lab', aggfunc='sum'), id_vars=[])"
   ]
  },
  {
   "cell_type": "code",
   "execution_count": 13,
   "metadata": {},
   "outputs": [
    {
     "data": {
      "text/plain": [
       "(array([0, 1, 2, 3]),\n",
       " [Text(0, 0, 'Abraira'),\n",
       "  Text(1, 0, 'Dulin'),\n",
       "  Text(2, 0, 'Hollis'),\n",
       "  Text(3, 0, 'Tysseling')])"
      ]
     },
     "execution_count": 13,
     "metadata": {},
     "output_type": "execute_result"
    },
    {
     "data": {
      "image/png": "[encoded data removed]",
      "text/plain": [
       "<Figure size 432x288 with 1 Axes>"
      ]
     },
     "metadata": {
      "needs_background": "light"
     },
     "output_type": "display_data"
    }
   ],
   "source": [
    "ax = sns.barplot(data=pd.pivot_table(counts, values='Num_Frames', index='Problem', columns='Lab', aggfunc='sum'))\n",
    "plt.xticks(rotation=90, ha='right')"
   ]
  },
  {
   "cell_type": "code",
   "execution_count": 31,
   "metadata": {},
   "outputs": [
    {
     "name": "stdout",
     "output_type": "stream",
     "text": [
      "total frames: 5951\n",
      "frames (max 25) 721\n"
     ]
    },
    {
     "data": {
      "text/plain": [
       "<AxesSubplot:ylabel='Count'>"
      ]
     },
     "execution_count": 31,
     "metadata": {},
     "output_type": "execute_result"
    },
    {
     "data": {
      "image/png": "[encoded data removed]",
      "text/plain": [
       "<Figure size 432x288 with 1 Axes>"
      ]
     },
     "metadata": {
      "needs_background": "light"
     },
     "output_type": "display_data"
    }
   ],
   "source": [
    "max_frames = 25\n",
    "sessions = sessions_with_problem_classes(df, ['detection failure'])\n",
    "print(\"total frames:\", sum([len(s['Frames']) for s in sessions]))\n",
    "print(f\"frames (max {max_frames})\", sum([len(s['Frames']) if len(s['Frames']) < max_frames else max_frames for s in sessions]))\n",
    "sns.histplot([len(s['Frames']) for s in sessions if len(s['Frames']) < 1000])"
   ]
  },
  {
   "cell_type": "code",
   "execution_count": 32,
   "metadata": {},
   "outputs": [
    {
     "name": "stdout",
     "output_type": "stream",
     "text": [
      "total frames: 6525\n",
      "frames (max 25) 501\n"
     ]
    },
    {
     "data": {
      "text/plain": [
       "<AxesSubplot:ylabel='Count'>"
      ]
     },
     "execution_count": 32,
     "metadata": {},
     "output_type": "execute_result"
    },
    {
     "data": {
      "image/png": "[encoded data removed]",
      "text/plain": [
       "<Figure size 432x288 with 1 Axes>"
      ]
     },
     "metadata": {
      "needs_background": "light"
     },
     "output_type": "display_data"
    }
   ],
   "source": [
    "max_frames = 25\n",
    "sessions = sessions_with_problem_classes(df, ['IR reflection'])\n",
    "print(\"total frames:\", sum([len(s['Frames']) for s in sessions]))\n",
    "print(f\"frames (max {max_frames})\", sum([len(s['Frames']) if len(s['Frames']) < max_frames else max_frames for s in sessions]))\n",
    "sns.histplot([len(s['Frames']) for s in sessions if len(s['Frames']) < 1000])"
   ]
  },
  {
   "cell_type": "code",
   "execution_count": 33,
   "metadata": {},
   "outputs": [
    {
     "name": "stdout",
     "output_type": "stream",
     "text": [
      "total frames: 2422\n",
      "frames (max 25) 748\n"
     ]
    },
    {
     "data": {
      "text/plain": [
       "<AxesSubplot:ylabel='Count'>"
      ]
     },
     "execution_count": 33,
     "metadata": {},
     "output_type": "execute_result"
    },
    {
     "data": {
      "image/png": "[encoded data removed]",
      "text/plain": [
       "<Figure size 432x288 with 1 Axes>"
      ]
     },
     "metadata": {
      "needs_background": "light"
     },
     "output_type": "display_data"
    }
   ],
   "source": [
    "max_frames = 25\n",
    "sessions = sessions_with_problem_classes(df, ['blob tracked'])\n",
    "print(\"total frames:\", sum([len(s['Frames']) for s in sessions]))\n",
    "print(f\"frames (max {max_frames})\", sum([len(s['Frames']) if len(s['Frames']) < max_frames else max_frames for s in sessions]))\n",
    "sns.histplot([len(s['Frames']) for s in sessions if len(s['Frames']) < 1000])"
   ]
  },
  {
   "cell_type": "code",
   "execution_count": 61,
   "metadata": {},
   "outputs": [
    {
     "name": "stdout",
     "output_type": "stream",
     "text": [
      "total frames: 13798\n",
      "frames (max 30) 1942\n",
      "# session over 30: 28\n",
      "Sessions with no ranges: 2\n"
     ]
    },
    {
     "data": {
      "text/plain": [
       "<AxesSubplot:ylabel='Count'>"
      ]
     },
     "execution_count": 61,
     "metadata": {},
     "output_type": "execute_result"
    },
    {
     "data": {
      "image/png": "[encoded data removed]",
      "text/plain": [
       "<Figure size 432x288 with 1 Axes>"
      ]
     },
     "metadata": {
      "needs_background": "light"
     },
     "output_type": "display_data"
    }
   ],
   "source": [
    "max_frames = 30\n",
    "sessions = sessions_with_problem_classes(df, ['detection failure', 'IR reflection', 'blob tracked'])\n",
    "print(\"total frames:\", sum([len(s['Frames']) for s in sessions]))\n",
    "print(f\"frames (max {max_frames})\", sum([len(s['Frames']) if len(s['Frames']) < max_frames else max_frames for s in sessions]))\n",
    "print(f\"# session over {max_frames}:\", len([s for s in sessions if len(s['Frames']) > max_frames]))\n",
    "print('Sessions with no ranges:', len([s for s in sessions if len(s['Frames']) == 0]))\n",
    "sns.histplot([len(s['Frames']) for s in sessions if len(s['Frames']) < 1000])"
   ]
  },
  {
   "cell_type": "code",
   "execution_count": 64,
   "metadata": {},
   "outputs": [
    {
     "name": "stdout",
     "output_type": "stream",
     "text": [
      "1942\n"
     ]
    }
   ],
   "source": [
    "data_locations = {\n",
    "    'Abraira': r'H:\\Tischfield_Lab_ISI\\MoSeq\\moseq2\\Raw_Data\\Abraira_Lab\\Spinal_Cord_Injury-C57BL6',\n",
    "    'Hollis': r'H:\\Tischfield_Lab_ISI\\MoSeq\\moseq2\\Raw_Data\\Hollis_Lab\\SCI-collaboration',\n",
    "    'Dulin': r'H:\\Tischfield_Lab_ISI\\MoSeq\\moseq2\\Raw_Data\\Dulin_Lab\\moseq-SCI-paper-cohort',\n",
    "    'Tysseling': r'H:\\Tischfield_Lab_ISI\\MoSeq\\moseq2\\Raw_Data\\Tysseling_Lab\\moseq-sci-paper'\n",
    "}\n",
    "output_dir = r\"D:\\moseq-extract-testing\\2023-01-19_new_training_data_from_problem_sessions\\detection_failures\"\n",
    "\n",
    "cmds = []\n",
    "max_frames = 30\n",
    "num_frames = 0\n",
    "for s in sessions_with_problem_classes(df, ['detection failure', 'IR reflection', 'blob tracked']):\n",
    "    # basic command setup\n",
    "    session_loc = os.path.join(data_locations[s[\"Lab\"]], f'{s[\"Session_ID\"]}.tar.gz')\n",
    "    cmd = f'moseq-d2-extract generate-dataset {session_loc} --output-label-studio --output-dir {output_dir} --stream depth --stream rgb '\n",
    "    \n",
    "    #specific options depending on number of frames\n",
    "    if  len(s['Frames']) == 0:\n",
    "        continue\n",
    "    elif len(s['Frames']) < max_frames:\n",
    "        cmd += f'--sample-method list --indices {\",\".join([str(idx) for idx in s[\"Frames\"]])}'\n",
    "        num_frames += len(s['Frames'])\n",
    "    else:\n",
    "        cmd += f'--sample-method kmeans --num-samples {max_frames} --indices {\",\".join([str(idx) for idx in s[\"Frames\"]])}'\n",
    "        num_frames += max_frames\n",
    "\n",
    "    cmds.append(cmd)\n",
    "cmds\n",
    "print(num_frames)\n"
   ]
  },
  {
   "cell_type": "code",
   "execution_count": 65,
   "metadata": {},
   "outputs": [],
   "source": [
    "with open('dataset_generation_commands.sh', 'w+') as f:\n",
    "    for cmd in cmds:\n",
    "        f.write(cmd)\n",
    "        f.write(\"\\n\")"
   ]
  },
  {
   "cell_type": "code",
   "execution_count": null,
   "metadata": {},
   "outputs": [],
   "source": []
  }
 ],
 "metadata": {
  "kernelspec": {
   "display_name": "moseq-detectron",
   "language": "python",
   "name": "python3"
  },
  "language_info": {
   "codemirror_mode": {
    "name": "ipython",
    "version": 3
   },
   "file_extension": ".py",
   "mimetype": "text/x-python",
   "name": "python",
   "nbconvert_exporter": "python",
   "pygments_lexer": "ipython3",
   "version": "3.8.12"
  },
  "orig_nbformat": 4,
  "vscode": {
   "interpreter": {
    "hash": "00e1def8bdb712f0981561fe225a43c0f558351f93494a034a5af522e2e275be"
   }
  }
 },
 "nbformat": 4,
 "nbformat_minor": 2
}
