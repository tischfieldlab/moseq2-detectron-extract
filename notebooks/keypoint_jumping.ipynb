{
 "cells": [
  {
   "cell_type": "code",
   "execution_count": 1,
   "metadata": {},
   "outputs": [],
   "source": [
    "from moseq2_detectron_extract.quality import find_outliers_h5\n",
    "from moseq2_detectron_extract.proc.keypoints import (\n",
    "    find_nan_keypoints, find_outliers_jumping, load_keypoint_data_from_h5)\n",
    "import h5py\n",
    "from moseq2_detectron_extract.io.annot import default_keypoint_names\n",
    "import seaborn as sns"
   ]
  },
  {
   "cell_type": "code",
   "execution_count": 2,
   "metadata": {},
   "outputs": [],
   "source": [
    "h5_path = r\"H:\\Tischfield_Lab_ISI\\MoSeq\\moseq2\\Raw_Data\\Dulin_Lab\\DREADDs Cohort- Ashley Tucker\\Week 9 Post Transplantation Post CNO\\session_20220819105327\\proc\\results_00.h5\"\n",
    "h5 = h5py.File(h5_path, 'r')"
   ]
  },
  {
   "cell_type": "code",
   "execution_count": 3,
   "metadata": {},
   "outputs": [],
   "source": [
    "keypoint_names = [kp for kp in default_keypoint_names if kp != 'TailTip']\n",
    "kpts = load_keypoint_data_from_h5(h5, keypoint_names)"
   ]
  },
  {
   "cell_type": "code",
   "execution_count": 4,
   "metadata": {},
   "outputs": [
    {
     "data": {
      "text/plain": [
       "323"
      ]
     },
     "execution_count": 4,
     "metadata": {},
     "output_type": "execute_result"
    }
   ],
   "source": [
    "ind, dist, outliers = find_outliers_jumping(kpts, window=3, thresh=10)\n",
    "len(ind)"
   ]
  },
  {
   "cell_type": "code",
   "execution_count": 5,
   "metadata": {},
   "outputs": [
    {
     "data": {
      "text/plain": [
       "(35937, 6)"
      ]
     },
     "execution_count": 5,
     "metadata": {},
     "output_type": "execute_result"
    }
   ],
   "source": [
    "dist.shape"
   ]
  },
  {
   "cell_type": "code",
   "execution_count": 6,
   "metadata": {},
   "outputs": [
    {
     "data": {
      "text/plain": [
       "<seaborn.axisgrid.FacetGrid at 0x14537f79d00>"
      ]
     },
     "execution_count": 6,
     "metadata": {},
     "output_type": "execute_result"
    },
    {
     "data": {
      "image/png": "[encoded data removed]",
      "text/plain": [
       "<Figure size 360x360 with 1 Axes>"
      ]
     },
     "metadata": {
      "needs_background": "light"
     },
     "output_type": "display_data"
    }
   ],
   "source": [
    "sns.displot(dist[:,0])"
   ]
  },
  {
   "cell_type": "code",
   "execution_count": 7,
   "metadata": {},
   "outputs": [
    {
     "data": {
      "text/plain": [
       "(35937, 6)"
      ]
     },
     "execution_count": 7,
     "metadata": {},
     "output_type": "execute_result"
    }
   ],
   "source": [
    "outliers.shape"
   ]
  },
  {
   "cell_type": "code",
   "execution_count": 8,
   "metadata": {},
   "outputs": [
    {
     "data": {
      "text/plain": [
       "array([[False, False, False, False, False, False],\n",
       "       [False, False, False, False, False, False],\n",
       "       [False, False, False, False, False, False]])"
      ]
     },
     "execution_count": 8,
     "metadata": {},
     "output_type": "execute_result"
    }
   ],
   "source": [
    "outliers[5:8, :]"
   ]
  },
  {
   "cell_type": "code",
   "execution_count": 9,
   "metadata": {},
   "outputs": [
    {
     "data": {
      "text/plain": [
       "array([[2.01706051, 1.86343216, 3.20071951, 2.05414393, 1.24479055,\n",
       "        0.43456562],\n",
       "       [2.09793919, 2.59952001, 1.8799614 , 2.43400836, 3.12483606,\n",
       "        2.80695592],\n",
       "       [2.66388656, 1.66951267, 2.73742284, 2.84269661, 2.39345298,\n",
       "        2.21287957]])"
      ]
     },
     "execution_count": 9,
     "metadata": {},
     "output_type": "execute_result"
    }
   ],
   "source": [
    "dist[5:8,:]"
   ]
  },
  {
   "cell_type": "code",
   "execution_count": 10,
   "metadata": {},
   "outputs": [
    {
     "data": {
      "text/plain": [
       "['Nose', 'Left Ear', 'Right Ear', 'Neck', 'Left Hip', 'Right Hip', 'TailBase']"
      ]
     },
     "execution_count": 10,
     "metadata": {},
     "output_type": "execute_result"
    }
   ],
   "source": [
    "keypoint_names"
   ]
  },
  {
   "cell_type": "code",
   "execution_count": 11,
   "metadata": {},
   "outputs": [
    {
     "data": {
      "text/plain": [
       "array([   28,    30,   185,   395,   415,   590,   600,  1168,  1203,\n",
       "        1371,  1439,  1464,  1466,  1475,  1608,  1612,  1898,  1987,\n",
       "        1989,  2005,  2007,  2853,  3412,  3564,  3720,  3721,  3722,\n",
       "        3737,  3796,  4153,  4993,  5064,  6543,  6545,  6905, 11222,\n",
       "       11224, 11270, 11271, 11273, 11276, 11299, 11345, 11641, 11661,\n",
       "       11713, 11756, 11758, 11784, 11867, 11870, 11874, 11875, 11876,\n",
       "       11878, 11879, 11883, 11885, 11916, 11918, 11919, 11921, 11932,\n",
       "       11934, 11992, 12067, 12106, 12111, 12113, 12115, 12116, 12307,\n",
       "       12322, 12360, 12378, 12384, 12391, 12392, 12393, 12394, 12434,\n",
       "       12436, 12446, 12628, 12646, 13520, 13955, 15106, 15336, 15338,\n",
       "       15493, 15533, 15797, 15802, 15806, 15816, 15837, 15864, 15871,\n",
       "       15873, 15888, 15892, 16181, 16184, 16393, 16395, 16592, 16594,\n",
       "       16627, 17407, 18535, 18537, 18552, 18593, 18597, 18601, 19262,\n",
       "       19280, 19294, 19296, 19298, 19299, 19301, 19370, 19998, 20242,\n",
       "       20286, 20288, 20394, 20396, 20511, 20534, 20714, 20990, 20992,\n",
       "       20994, 20996, 21003, 21039, 21050, 21080, 21082, 21114, 21197,\n",
       "       21208, 21210, 21233, 21235, 21372, 21384, 21387, 21389, 21398,\n",
       "       21829, 21963, 23883, 23885, 23909, 23913, 23915, 23920, 23923,\n",
       "       23927, 23929, 23930, 23933, 23934, 23936, 23939, 23940, 23941,\n",
       "       23942, 23943, 23944, 23945, 23950, 24048, 24061, 24100, 24105,\n",
       "       24351, 24731, 25360, 25364, 25479, 25510, 25527, 25672, 26499,\n",
       "       26533, 26581, 26583, 26584, 26587, 26589, 26675, 26693, 28560,\n",
       "       29130, 29173, 29191, 29200, 29202, 29205, 29221, 29224, 29226,\n",
       "       29232, 29234, 29236, 29237, 29238, 29260, 29262, 29264, 29265,\n",
       "       29266, 29267, 29268, 29269, 29270, 29272, 29273, 29274, 29275,\n",
       "       29277, 29280, 29282, 29286, 29302, 29313, 29326, 29340, 29348,\n",
       "       29350, 29351, 29356, 29358, 29432, 29434, 29465, 29468, 29469,\n",
       "       29470, 29471, 29489, 29491, 29492, 29493, 29494, 29495, 29497,\n",
       "       29519, 29521, 29537, 29580, 29583, 29586, 29590, 29628, 29632,\n",
       "       29852, 29854, 29881, 29894, 29961, 29968, 29970, 29971, 29972,\n",
       "       29973, 29974, 29975, 29986, 30053, 30074, 30076, 30458, 30460,\n",
       "       30474, 30490, 30934, 30936, 30944, 31009, 31162, 31186, 31196,\n",
       "       31198, 31202, 31231, 31269, 31290, 31319, 31334, 31512, 31967,\n",
       "       32589, 32612, 32623, 32858, 32870, 32875, 32886, 33781, 34514,\n",
       "       34516, 34696, 34737, 34760, 34971, 34988, 35002, 35009, 35223,\n",
       "       35241, 35243, 35244, 35272, 35274, 35275, 35308, 35376],\n",
       "      dtype=int64)"
      ]
     },
     "execution_count": 11,
     "metadata": {},
     "output_type": "execute_result"
    }
   ],
   "source": [
    "ind"
   ]
  },
  {
   "cell_type": "code",
   "execution_count": null,
   "metadata": {},
   "outputs": [],
   "source": []
  }
 ],
 "metadata": {
  "kernelspec": {
   "display_name": "moseq-detectron",
   "language": "python",
   "name": "python3"
  },
  "language_info": {
   "codemirror_mode": {
    "name": "ipython",
    "version": 3
   },
   "file_extension": ".py",
   "mimetype": "text/x-python",
   "name": "python",
   "nbconvert_exporter": "python",
   "pygments_lexer": "ipython3",
   "version": "3.8.12"
  },
  "orig_nbformat": 4,
  "vscode": {
   "interpreter": {
    "hash": "00e1def8bdb712f0981561fe225a43c0f558351f93494a034a5af522e2e275be"
   }
  }
 },
 "nbformat": 4,
 "nbformat_minor": 2
}
