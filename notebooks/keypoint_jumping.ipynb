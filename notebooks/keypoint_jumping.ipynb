{
 "cells": [
  {
   "cell_type": "code",
   "execution_count": 1,
   "metadata": {},
   "outputs": [],
   "source": [
    "from moseq2_detectron_extract.quality import find_outliers_h5\n",
    "from moseq2_detectron_extract.proc.keypoints import (\n",
    "    find_nan_keypoints, find_outliers_jumping, load_keypoint_data_from_h5)\n",
    "import h5py\n",
    "from moseq2_detectron_extract.io.annot import default_keypoint_names\n",
    "import seaborn as sns\n",
    "import numpy as np"
   ]
  },
  {
   "cell_type": "code",
   "execution_count": 2,
   "metadata": {},
   "outputs": [],
   "source": [
    "h5_path = r\"H:\\Tischfield_Lab_ISI\\MoSeq\\moseq2\\Raw_Data\\Dulin_Lab\\DREADDs Cohort- Ashley Tucker\\Week 9 Post Transplantation- Pre CNO\\session_20220808103109\\proc\\results_00.h5\"\n",
    "h5 = h5py.File(h5_path, 'r')"
   ]
  },
  {
   "cell_type": "code",
   "execution_count": 3,
   "metadata": {},
   "outputs": [],
   "source": [
    "keypoint_names = [kp for kp in default_keypoint_names if kp != 'TailTip']\n",
    "kpts = load_keypoint_data_from_h5(h5, keypoint_names)"
   ]
  },
  {
   "cell_type": "code",
   "execution_count": 4,
   "metadata": {},
   "outputs": [
    {
     "data": {
      "text/plain": [
       "671"
      ]
     },
     "execution_count": 4,
     "metadata": {},
     "output_type": "execute_result"
    }
   ],
   "source": [
    "ind, dist, outliers = find_outliers_jumping(kpts, window=3, thresh=10)\n",
    "len(ind)"
   ]
  },
  {
   "cell_type": "code",
   "execution_count": 5,
   "metadata": {},
   "outputs": [
    {
     "data": {
      "text/plain": [
       "(35911, 6)"
      ]
     },
     "execution_count": 5,
     "metadata": {},
     "output_type": "execute_result"
    }
   ],
   "source": [
    "dist.shape"
   ]
  },
  {
   "cell_type": "code",
   "execution_count": 17,
   "metadata": {},
   "outputs": [
    {
     "data": {
      "text/plain": [
       "<seaborn.axisgrid.FacetGrid at 0x1d473d36f10>"
      ]
     },
     "execution_count": 17,
     "metadata": {},
     "output_type": "execute_result"
    },
    {
     "data": {
      "image/png": "[encoded data removed]",
      "text/plain": [
       "<Figure size 360x360 with 1 Axes>"
      ]
     },
     "metadata": {
      "needs_background": "light"
     },
     "output_type": "display_data"
    }
   ],
   "source": [
    "sns.displot(dist[:,5])"
   ]
  },
  {
   "cell_type": "code",
   "execution_count": 7,
   "metadata": {},
   "outputs": [
    {
     "data": {
      "text/plain": [
       "(35911, 6)"
      ]
     },
     "execution_count": 7,
     "metadata": {},
     "output_type": "execute_result"
    }
   ],
   "source": [
    "outliers.shape"
   ]
  },
  {
   "cell_type": "code",
   "execution_count": 8,
   "metadata": {},
   "outputs": [
    {
     "data": {
      "text/plain": [
       "array([[False, False, False, False, False, False],\n",
       "       [False, False, False, False, False, False],\n",
       "       [False, False, False, False, False, False]])"
      ]
     },
     "execution_count": 8,
     "metadata": {},
     "output_type": "execute_result"
    }
   ],
   "source": [
    "outliers[5:8, :]"
   ]
  },
  {
   "cell_type": "code",
   "execution_count": 9,
   "metadata": {},
   "outputs": [
    {
     "data": {
      "text/plain": [
       "array([[0.22818039, 0.38001966, 0.27715072, 0.40016174, 0.14603742,\n",
       "        0.13425827],\n",
       "       [0.27013397, 0.21470642, 0.12687683, 0.34104919, 0.02684784,\n",
       "        0.55968456],\n",
       "       [0.17575073, 0.37982337, 0.17301941, 0.42451946, 0.24011172,\n",
       "        0.08585364]])"
      ]
     },
     "execution_count": 9,
     "metadata": {},
     "output_type": "execute_result"
    }
   ],
   "source": [
    "dist[5:8,:]"
   ]
  },
  {
   "cell_type": "code",
   "execution_count": 10,
   "metadata": {},
   "outputs": [
    {
     "data": {
      "text/plain": [
       "['Nose', 'Left Ear', 'Right Ear', 'Neck', 'Left Hip', 'Right Hip', 'TailBase']"
      ]
     },
     "execution_count": 10,
     "metadata": {},
     "output_type": "execute_result"
    }
   ],
   "source": [
    "keypoint_names"
   ]
  },
  {
   "cell_type": "code",
   "execution_count": 10,
   "metadata": {},
   "outputs": [
    {
     "data": {
      "text/plain": [
       "array([   22,    23,    27,    28,    29,    30,    82,    83,    84,\n",
       "          87,    88,    89,    93,    95,   153,   159,   224,   227,\n",
       "         233,   246,   277,   315,   362,   363,   369,   370,   371,\n",
       "         372,   374,   403,   404,   423,   439,   442,   444,   449,\n",
       "         528,   529,   571,   572,   573,   616,   621,   690,   691,\n",
       "         692,   841,   846,   857,   858,   860,   882,   909,   910,\n",
       "         911,   912,   923,   924,   925,  1103,  1104,  1213,  1214,\n",
       "        1215,  1216,  1218,  1219,  1279,  1365,  1366,  1427,  1474,\n",
       "        1475,  1478,  1479,  1480,  1481,  1486,  1487,  1488,  1489,\n",
       "        1490,  1491,  1492,  1493,  1494,  1495,  1496,  1497,  1498,\n",
       "        1499,  1500,  1501,  1502,  1503,  1504,  1505,  1506,  1507,\n",
       "        1512,  1518,  1519,  1568,  1569,  1967,  1968,  1969,  1970,\n",
       "        1977,  1978,  1980,  2475,  2570,  2575,  4503,  4504,  4801,\n",
       "        4886,  5436,  5437,  5468,  5469,  5484,  5485,  5486,  5491,\n",
       "        5492,  5493,  8629,  8630,  8631,  8636,  8637,  8679,  8680,\n",
       "        8681,  8682,  8683,  8684,  8685,  8686,  8687,  8688,  8692,\n",
       "        8693,  8694,  8695,  8696,  8698,  8699,  8700,  8701,  8783,\n",
       "        8784,  8785,  8792,  8825,  8826,  8827,  8885,  8891,  8892,\n",
       "        9099,  9100,  9101,  9157,  9186,  9191,  9192,  9193,  9194,\n",
       "        9197,  9200, 12019, 12266, 12313, 12424, 12471, 12481, 12482,\n",
       "       12483, 12491, 12492, 12493, 12540, 12541, 12547, 12548, 12549,\n",
       "       12551, 12554, 12555, 12590, 12596, 12638, 12679, 12680, 12681,\n",
       "       12682, 12687, 12688, 12689, 12690, 12691, 12694, 12695, 12696,\n",
       "       12702, 12703, 12704, 12705, 12706, 12707, 12708, 12709, 12710,\n",
       "       12717, 12724, 12725, 12726, 12727, 12796, 12798, 12799, 12800,\n",
       "       12804, 12805, 12806, 12807, 12837, 12838, 12839, 12845, 12851,\n",
       "       12852, 12853, 12854, 12856, 12857, 12859, 12860, 12861, 13113,\n",
       "       13141, 13146, 13147, 13149, 13152, 14341, 14386, 14411, 14412,\n",
       "       14414, 16213, 16214, 16222, 16223, 16249, 16251, 16264, 16272,\n",
       "       16273, 16638, 16639, 17649, 17658, 17659, 17666, 17674, 17675,\n",
       "       17676, 17681, 17682, 17683, 17716, 17717, 17723, 17724, 17725,\n",
       "       17727, 17729, 17730, 17731, 17735, 17736, 17737, 17738, 17739,\n",
       "       17740, 17741, 17742, 17743, 17748, 17749, 17750, 17770, 17771,\n",
       "       17773, 17778, 17779, 17811, 17812, 17819, 17820, 17856, 17863,\n",
       "       20839, 21021, 21038, 21076, 21117, 21118, 21171, 21178, 21179,\n",
       "       21180, 21187, 21363, 21438, 21446, 21447, 21448, 21593, 21601,\n",
       "       21602, 21603, 21606, 21607, 21787, 22178, 22179, 22180, 22186,\n",
       "       22187, 22188, 22191, 22201, 22202, 22203, 22206, 22207, 22230,\n",
       "       22314, 22315, 22316, 22317, 22318, 22319, 22320, 22321, 22322,\n",
       "       22324, 22327, 22328, 22329, 22330, 22335, 22336, 22337, 22338,\n",
       "       22341, 22342, 22343, 22344, 22345, 22401, 23153, 23162, 23290,\n",
       "       23292, 23293, 23583, 23588, 23597, 23598, 23600, 23602, 23603,\n",
       "       23604, 23605, 23611, 23612, 23613, 23614, 23722, 23726, 23730,\n",
       "       23731, 23732, 23841, 23842, 24773, 24774, 24775, 24776, 24777,\n",
       "       24778, 24779, 24780, 24781, 24783, 24784, 24785, 24786, 24787,\n",
       "       24788, 24789, 24806, 24807, 24808, 24809, 24813, 24814, 24819,\n",
       "       24824, 24825, 24826, 24842, 24843, 25173, 25184, 25253, 25401,\n",
       "       25415, 25425, 25426, 25427, 25428, 25429, 25430, 25431, 25432,\n",
       "       25434, 25437, 25438, 25440, 25441, 25442, 25453, 25539, 25565,\n",
       "       25577, 25636, 25753, 25834, 25862, 25872, 25973, 25974, 25976,\n",
       "       25978, 25988, 25989, 25992, 26012, 26076, 26079, 26083, 26086,\n",
       "       26090, 26093, 26095, 26100, 26101, 26103, 26104, 26108, 26113,\n",
       "       26315, 26460, 26473, 26474, 26480, 26481, 26483, 26524, 26618,\n",
       "       26746, 26871, 26875, 26880, 26899, 26900, 26934, 26942, 26943,\n",
       "       26945, 26949, 26956, 26994, 26997, 26999, 27093, 27094, 27096,\n",
       "       27097, 27105, 27106, 27247, 27250, 27254, 27258, 27259, 27260,\n",
       "       28165, 28661, 28669, 28670, 28706, 28711, 28725, 28805, 28855,\n",
       "       28856, 28857, 28860, 28862, 28863, 28864, 28865, 28866, 28868,\n",
       "       28869, 28870, 29393, 29394, 29395, 29396, 29401, 29402, 29403,\n",
       "       29404, 29405, 29410, 29411, 29412, 29413, 29416, 29417, 29418,\n",
       "       29428, 29456, 30075, 30076, 30077, 30083, 30084, 30116, 30363,\n",
       "       30398, 30399, 30400, 30401, 30402, 30405, 30500, 30663, 30664,\n",
       "       30665, 30666, 30667, 30668, 30669, 30683, 30684, 30685, 30691,\n",
       "       30692, 30693, 30694, 30784, 32502, 32504, 32512, 32513, 32514,\n",
       "       32515, 32516, 32518, 32519, 32524, 32525, 32526, 32527, 32657,\n",
       "       32658, 32659, 32664, 32665, 33069, 34468, 34496, 34557, 34558,\n",
       "       34559, 34566, 34567, 34568, 34569, 34573, 34580, 34581, 34624,\n",
       "       34625, 34627, 34628, 34629, 34641, 34642, 34643, 34644, 34646,\n",
       "       34647, 34648, 34650, 34654, 34663, 34666, 34667, 34668, 34669,\n",
       "       34670, 34674, 34675, 34676, 34682, 34683, 34688, 34689, 34690,\n",
       "       34691, 34692, 34694, 34697, 34698, 34699, 34700, 34734, 34735,\n",
       "       34736, 34737, 34837, 34838, 34846, 34847, 34851, 34852, 34853,\n",
       "       34868, 34869, 34871, 34872, 34873, 34874, 34880, 34881, 34882,\n",
       "       34886, 34887, 35194, 35828, 35842, 35843, 35875, 35878, 35879,\n",
       "       35887, 35890, 35897, 35899, 35910], dtype=int64)"
      ]
     },
     "execution_count": 10,
     "metadata": {},
     "output_type": "execute_result"
    }
   ],
   "source": [
    "ind"
   ]
  },
  {
   "cell_type": "code",
   "execution_count": 8,
   "metadata": {},
   "outputs": [],
   "source": [
    "x = np.arange(100)"
   ]
  },
  {
   "cell_type": "code",
   "execution_count": 12,
   "metadata": {},
   "outputs": [
    {
     "data": {
      "text/plain": [
       "(100, 2)"
      ]
     },
     "execution_count": 12,
     "metadata": {},
     "output_type": "execute_result"
    }
   ],
   "source": [
    "np.column_stack((x, x)).shape"
   ]
  },
  {
   "cell_type": "code",
   "execution_count": null,
   "metadata": {},
   "outputs": [],
   "source": []
  }
 ],
 "metadata": {
  "kernelspec": {
   "display_name": "moseq-detectron",
   "language": "python",
   "name": "python3"
  },
  "language_info": {
   "codemirror_mode": {
    "name": "ipython",
    "version": 3
   },
   "file_extension": ".py",
   "mimetype": "text/x-python",
   "name": "python",
   "nbconvert_exporter": "python",
   "pygments_lexer": "ipython3",
   "version": "3.8.12"
  },
  "orig_nbformat": 4,
  "vscode": {
   "interpreter": {
    "hash": "00e1def8bdb712f0981561fe225a43c0f558351f93494a034a5af522e2e275be"
   }
  }
 },
 "nbformat": 4,
 "nbformat_minor": 2
}
