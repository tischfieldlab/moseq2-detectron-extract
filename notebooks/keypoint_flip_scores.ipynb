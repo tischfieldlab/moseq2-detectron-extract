{
 "cells": [
  {
   "cell_type": "code",
   "execution_count": 35,
   "metadata": {},
   "outputs": [],
   "source": [
    "import numpy as np\n",
    "import matplotlib.pyplot as plt\n",
    "import itertools"
   ]
  },
  {
   "cell_type": "code",
   "execution_count": 13,
   "metadata": {},
   "outputs": [
    {
     "data": {
      "text/plain": [
       "(-50.0, 1050.0, -50.0, 1050.0)"
      ]
     },
     "execution_count": 13,
     "metadata": {},
     "output_type": "execute_result"
    },
    {
     "data": {
      "image/png": "[encoded data removed]",
      "text/plain": [
       "<Figure size 432x288 with 1 Axes>"
      ]
     },
     "metadata": {
      "needs_background": "light"
     },
     "output_type": "display_data"
    }
   ],
   "source": [
    "x = np.linspace(0, 1000)\n",
    "y = np.linspace(0, 1000)\n",
    "plt.plot(x, y)\n",
    "plt.xlabel('Angle [rad]')\n",
    "plt.ylabel('sin(x)')\n",
    "plt.axis('tight')"
   ]
  },
  {
   "cell_type": "code",
   "execution_count": 11,
   "metadata": {},
   "outputs": [],
   "source": [
    "def format_data(data: np.ndarray):\n",
    "    return np.unwrap(np.mod(data, 360) - 180, period=360)\n",
    "\n",
    "def inverse_format_data(data: np.ndarray):\n",
    "    return np.mod(data + 180, 360)\n"
   ]
  },
  {
   "cell_type": "code",
   "execution_count": 14,
   "metadata": {},
   "outputs": [
    {
     "data": {
      "text/plain": [
       "(-50.0, 1050.0, -17.71428571428571, 371.99999999999994)"
      ]
     },
     "execution_count": 14,
     "metadata": {},
     "output_type": "execute_result"
    },
    {
     "data": {
      "image/png": "[encoded data removed]",
      "text/plain": [
       "<Figure size 432x288 with 1 Axes>"
      ]
     },
     "metadata": {
      "needs_background": "light"
     },
     "output_type": "display_data"
    }
   ],
   "source": [
    "y_prime = inverse_format_data(format_data(y))\n",
    "\n",
    "plt.plot(x, y_prime)\n",
    "plt.xlabel('Angle [rad]')\n",
    "plt.ylabel('sin(x)')\n",
    "plt.axis('tight')"
   ]
  },
  {
   "cell_type": "code",
   "execution_count": 21,
   "metadata": {},
   "outputs": [
    {
     "name": "stdout",
     "output_type": "stream",
     "text": [
      "True -0.5 1.0\n"
     ]
    }
   ],
   "source": [
    "front = np.array([-1, -1, -1, 1])\n",
    "rear = np.array([1, 1, 1])\n",
    "front_votes = np.mean(front)\n",
    "rear_votes = np.mean(rear)\n",
    "flips = np.where(front_votes < rear_votes, True, False)\n",
    "print(flips, front_votes, rear_votes)"
   ]
  },
  {
   "cell_type": "code",
   "execution_count": 22,
   "metadata": {},
   "outputs": [
    {
     "data": {
      "text/plain": [
       "dtype('int32')"
      ]
     },
     "execution_count": 22,
     "metadata": {},
     "output_type": "execute_result"
    }
   ],
   "source": [
    "dissenting = np.where(front == )"
   ]
  },
  {
   "cell_type": "code",
   "execution_count": 25,
   "metadata": {},
   "outputs": [],
   "source": [
    "expected = np.where(flips, np.array([-1, 1]), np.array([1, -1]))"
   ]
  },
  {
   "cell_type": "code",
   "execution_count": 30,
   "metadata": {},
   "outputs": [
    {
     "data": {
      "text/plain": [
       "6"
      ]
     },
     "execution_count": 30,
     "metadata": {},
     "output_type": "execute_result"
    }
   ],
   "source": [
    "agree = np.count_nonzero(front + expected[0]) + np.count_nonzero(rear + expected[1])\n",
    "agree"
   ]
  },
  {
   "cell_type": "code",
   "execution_count": 32,
   "metadata": {},
   "outputs": [
    {
     "data": {
      "text/plain": [
       "4"
      ]
     },
     "execution_count": 32,
     "metadata": {},
     "output_type": "execute_result"
    }
   ],
   "source": [
    "len(front)"
   ]
  },
  {
   "cell_type": "code",
   "execution_count": 110,
   "metadata": {},
   "outputs": [],
   "source": [
    "def compute_score(front, rear, flip):\n",
    "    expected = np.where(flip[:, None], np.array([-1, 1]), np.array([1, -1]))\n",
    "    agree = np.count_nonzero(front == expected[:, 0, None], axis=1) + np.count_nonzero(rear == expected[:, 1, None], axis=1)\n",
    "    total = front.shape[1] + rear.shape[1]\n",
    "    conf_scores = agree / total\n",
    "    return conf_scores\n",
    "\n",
    "def compute_flip(front, rear):\n",
    "    front_votes = np.mean(front, axis=1)\n",
    "    rear_votes = np.mean(rear, axis=1)\n",
    "    flips = np.where(front_votes < rear_votes, True, False)\n",
    "    return flips"
   ]
  },
  {
   "cell_type": "code",
   "execution_count": 108,
   "metadata": {},
   "outputs": [],
   "source": [
    "trials = np.array([np.array(t) for t in itertools.product([1, -1], repeat=7)])\n",
    "flips = compute_flip(trials[:, 0:4], trials[:, 4:])"
   ]
  },
  {
   "cell_type": "code",
   "execution_count": 111,
   "metadata": {},
   "outputs": [
    {
     "data": {
      "text/plain": [
       "array([0.42857143, 0.28571429, 0.28571429, 0.14285714, 0.28571429,\n",
       "       0.14285714, 0.14285714, 0.        , 0.42857143, 0.42857143,\n",
       "       0.42857143, 0.28571429, 0.42857143, 0.28571429, 0.28571429,\n",
       "       0.14285714, 0.42857143, 0.42857143, 0.42857143, 0.28571429,\n",
       "       0.42857143, 0.28571429, 0.28571429, 0.14285714, 0.28571429,\n",
       "       0.42857143, 0.42857143, 0.42857143, 0.42857143, 0.42857143,\n",
       "       0.42857143, 0.28571429, 0.42857143, 0.42857143, 0.42857143,\n",
       "       0.28571429, 0.42857143, 0.28571429, 0.28571429, 0.14285714,\n",
       "       0.28571429, 0.42857143, 0.42857143, 0.42857143, 0.42857143,\n",
       "       0.42857143, 0.42857143, 0.28571429, 0.28571429, 0.42857143,\n",
       "       0.42857143, 0.42857143, 0.42857143, 0.42857143, 0.42857143,\n",
       "       0.28571429, 0.14285714, 0.28571429, 0.28571429, 0.42857143,\n",
       "       0.28571429, 0.42857143, 0.42857143, 0.42857143, 0.42857143,\n",
       "       0.42857143, 0.42857143, 0.28571429, 0.42857143, 0.28571429,\n",
       "       0.28571429, 0.14285714, 0.28571429, 0.42857143, 0.42857143,\n",
       "       0.42857143, 0.42857143, 0.42857143, 0.42857143, 0.28571429,\n",
       "       0.28571429, 0.42857143, 0.42857143, 0.42857143, 0.42857143,\n",
       "       0.42857143, 0.42857143, 0.28571429, 0.14285714, 0.28571429,\n",
       "       0.28571429, 0.42857143, 0.28571429, 0.42857143, 0.42857143,\n",
       "       0.42857143, 0.28571429, 0.42857143, 0.42857143, 0.42857143,\n",
       "       0.42857143, 0.42857143, 0.42857143, 0.28571429, 0.14285714,\n",
       "       0.28571429, 0.28571429, 0.42857143, 0.28571429, 0.42857143,\n",
       "       0.42857143, 0.42857143, 0.14285714, 0.28571429, 0.28571429,\n",
       "       0.42857143, 0.28571429, 0.42857143, 0.42857143, 0.42857143,\n",
       "       0.        , 0.14285714, 0.14285714, 0.28571429, 0.14285714,\n",
       "       0.28571429, 0.28571429, 0.57142857])"
      ]
     },
     "execution_count": 111,
     "metadata": {},
     "output_type": "execute_result"
    }
   ],
   "source": [
    "compute_score(trials[:, 0:4], trials[:, 4:], ~flips)"
   ]
  },
  {
   "cell_type": "code",
   "execution_count": 112,
   "metadata": {},
   "outputs": [
    {
     "data": {
      "text/plain": [
       "array([0.57142857, 0.71428571, 0.71428571, 0.85714286, 0.71428571,\n",
       "       0.85714286, 0.85714286, 1.        , 0.57142857, 0.57142857,\n",
       "       0.57142857, 0.71428571, 0.57142857, 0.71428571, 0.71428571,\n",
       "       0.85714286, 0.57142857, 0.57142857, 0.57142857, 0.71428571,\n",
       "       0.57142857, 0.71428571, 0.71428571, 0.85714286, 0.71428571,\n",
       "       0.57142857, 0.57142857, 0.57142857, 0.57142857, 0.57142857,\n",
       "       0.57142857, 0.71428571, 0.57142857, 0.57142857, 0.57142857,\n",
       "       0.71428571, 0.57142857, 0.71428571, 0.71428571, 0.85714286,\n",
       "       0.71428571, 0.57142857, 0.57142857, 0.57142857, 0.57142857,\n",
       "       0.57142857, 0.57142857, 0.71428571, 0.71428571, 0.57142857,\n",
       "       0.57142857, 0.57142857, 0.57142857, 0.57142857, 0.57142857,\n",
       "       0.71428571, 0.85714286, 0.71428571, 0.71428571, 0.57142857,\n",
       "       0.71428571, 0.57142857, 0.57142857, 0.57142857, 0.57142857,\n",
       "       0.57142857, 0.57142857, 0.71428571, 0.57142857, 0.71428571,\n",
       "       0.71428571, 0.85714286, 0.71428571, 0.57142857, 0.57142857,\n",
       "       0.57142857, 0.57142857, 0.57142857, 0.57142857, 0.71428571,\n",
       "       0.71428571, 0.57142857, 0.57142857, 0.57142857, 0.57142857,\n",
       "       0.57142857, 0.57142857, 0.71428571, 0.85714286, 0.71428571,\n",
       "       0.71428571, 0.57142857, 0.71428571, 0.57142857, 0.57142857,\n",
       "       0.57142857, 0.71428571, 0.57142857, 0.57142857, 0.57142857,\n",
       "       0.57142857, 0.57142857, 0.57142857, 0.71428571, 0.85714286,\n",
       "       0.71428571, 0.71428571, 0.57142857, 0.71428571, 0.57142857,\n",
       "       0.57142857, 0.57142857, 0.85714286, 0.71428571, 0.71428571,\n",
       "       0.57142857, 0.71428571, 0.57142857, 0.57142857, 0.57142857,\n",
       "       1.        , 0.85714286, 0.85714286, 0.71428571, 0.85714286,\n",
       "       0.71428571, 0.71428571, 0.42857143])"
      ]
     },
     "execution_count": 112,
     "metadata": {},
     "output_type": "execute_result"
    }
   ],
   "source": [
    "compute_score(trials[:, 0:4], trials[:, 4:], flips)"
   ]
  },
  {
   "cell_type": "code",
   "execution_count": 113,
   "metadata": {},
   "outputs": [
    {
     "data": {
      "text/plain": [
       "(array([ 1.,  0., 69.,  0.,  0., 42.,  0., 14.,  0.,  2.]),\n",
       " array([0.42857143, 0.48571429, 0.54285714, 0.6       , 0.65714286,\n",
       "        0.71428571, 0.77142857, 0.82857143, 0.88571429, 0.94285714,\n",
       "        1.        ]),\n",
       " <BarContainer object of 10 artists>)"
      ]
     },
     "execution_count": 113,
     "metadata": {},
     "output_type": "execute_result"
    },
    {
     "data": {
      "image/png": "[encoded data removed]",
      "text/plain": [
       "<Figure size 432x288 with 1 Axes>"
      ]
     },
     "metadata": {
      "needs_background": "light"
     },
     "output_type": "display_data"
    }
   ],
   "source": [
    "plt.hist(compute_score(trials[:, 0:4], trials[:, 4:], flips))"
   ]
  },
  {
   "cell_type": "code",
   "execution_count": null,
   "metadata": {},
   "outputs": [],
   "source": []
  }
 ],
 "metadata": {
  "kernelspec": {
   "display_name": "moseq-detectron",
   "language": "python",
   "name": "python3"
  },
  "language_info": {
   "codemirror_mode": {
    "name": "ipython",
    "version": 3
   },
   "file_extension": ".py",
   "mimetype": "text/x-python",
   "name": "python",
   "nbconvert_exporter": "python",
   "pygments_lexer": "ipython3",
   "version": "3.8.12"
  },
  "orig_nbformat": 4,
  "vscode": {
   "interpreter": {
    "hash": "00e1def8bdb712f0981561fe225a43c0f558351f93494a034a5af522e2e275be"
   }
  }
 },
 "nbformat": 4,
 "nbformat_minor": 2
}
