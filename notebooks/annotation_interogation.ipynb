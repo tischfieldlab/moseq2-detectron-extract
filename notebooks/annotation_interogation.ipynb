{
 "cells": [
  {
   "cell_type": "code",
   "execution_count": 1,
   "id": "48ef6655-8fc5-4fea-81b7-e39eaa4ff9ba",
   "metadata": {},
   "outputs": [],
   "source": [
    "import json\n",
    "from datetime import datetime, timedelta\n",
    "import pandas as pd\n",
    "import seaborn as sns\n",
    "import numpy as np\n",
    "from itertools import groupby\n",
    "from operator import itemgetter\n",
    "from matplotlib import pyplot as plt"
   ]
  },
  {
   "cell_type": "code",
   "execution_count": 2,
   "id": "5377fc0f-d386-4cdb-9f40-07a863eaff74",
   "metadata": {},
   "outputs": [],
   "source": [
    "#annot_file = r\"C:\\Users\\Josh\\Downloads\\project-64-at-2022-01-26-20-30-21909fe6.json\"\n",
    "#annot_file = r\"C:\\Users\\Josh\\Downloads\\project-64-at-2022-02-08-20-42-d412803b.json\"\n",
    "#annot_file = r\"C:\\Users\\Josh\\Downloads\\project-64-at-2022-02-11-23-47-09a432dd.json\"\n",
    "annot_file = r\"C:\\Users\\Josh\\Downloads\\project-3-at-2022-06-10-21-34-9e16185b.json\""
   ]
  },
  {
   "cell_type": "code",
   "execution_count": 3,
   "id": "faa64f9d-30b4-473d-9406-b3c48f2bfb2f",
   "metadata": {},
   "outputs": [],
   "source": [
    "def get_image_path(entry: dict) -> str:\n",
    "    ''' Extract image file path from an annotation entry\n",
    "    '''\n",
    "    if 'task_path' in entry:\n",
    "        return entry['task_path']\n",
    "    elif 'data' in entry and 'image' in entry['data']:\n",
    "        return entry['data']['image']\n",
    "    elif 'data' in entry and 'depth_image' in entry['data']:\n",
    "        return entry['data']['depth_image']\n",
    "\n",
    "\n",
    "def update_create_same(item):\n",
    "    created = datetime.strptime(item['created'], '%Y-%m-%dT%H:%M:%S.%fZ')\n",
    "    updated = datetime.strptime(item['updated'], '%Y-%m-%dT%H:%M:%S.%fZ')\n",
    "    delta = (updated - created)\n",
    "    print(delta)\n",
    "    return delta < timedelta(seconds=10)\n",
    "\n",
    "def collapse_adjacent_values(a):\n",
    "    \"\"\" Collapses adjacent values in an array\n",
    "\n",
    "    Example:\n",
    "    collapse_adjacent_values([0,1,1,1,0,0,0,3,3,2,2])\n",
    "    > [(0,1), (1,3), (0, 3), (3,2), (2,2)]\n",
    "\n",
    "    Parameters:\n",
    "    a (array): array of labels to collapse\n",
    "\n",
    "    Returns\n",
    "    array of tuple: each tuple contains (label, run_count)\n",
    "    \"\"\"\n",
    "    return [(k, len(list(g))) for k, g in groupby(a)]\n",
    "#end collapse_adjacent_values()\n",
    "\n",
    "def collapse_consecutive_values(a):\n",
    "    \"\"\" Collapses consecutive values in an array\n",
    "\n",
    "    Example:\n",
    "    collapse_consecutive_values([0,1,2,3,10,11,12,13,21,22,23])\n",
    "    > [(0,4), (10,4), (21, 3)]\n",
    "\n",
    "    Parameters:\n",
    "    a (array): array of labels to collapse\n",
    "\n",
    "    Returns\n",
    "    array of tuple: each tuple contains (label, run_count)\n",
    "    \"\"\"\n",
    "    grouped_instances = []\n",
    "    for _, g in groupby(enumerate(a), lambda ix : ix[0] - ix[1]):\n",
    "        local_group = list(map(itemgetter(1), g))\n",
    "        grouped_instances.append((local_group[0], len(local_group)))\n",
    "    return grouped_instances\n",
    "#end collapse_adjacent_values()"
   ]
  },
  {
   "cell_type": "code",
   "execution_count": 4,
   "id": "0955815f-b9e7-463a-b2cf-93aa7e3cd8d7",
   "metadata": {},
   "outputs": [
    {
     "name": "stdout",
     "output_type": "stream",
     "text": [
      "Read 2100 annotations\n"
     ]
    }
   ],
   "source": [
    "with open(annot_file, 'r') as fp:\n",
    "    data = json.load(fp)\n",
    "    \n",
    "\n",
    "    \n",
    "annotations = []\n",
    "for entry in data:\n",
    "    # depending version, we have seen keys `annotations` and `completions`\n",
    "    if 'annotations' in entry:\n",
    "        key = 'annotations'\n",
    "    elif 'completions' in entry:\n",
    "        key = 'completions'\n",
    "    else:\n",
    "        raise ValueError('Cannot find annotation data for entry!')\n",
    "    \n",
    "    if len(entry[key][0]['result']) <= 0:\n",
    "        print('warn: no results!')\n",
    "    else:\n",
    "        annotations.append({\n",
    "            'file_name': get_image_path(entry),\n",
    "            'width': entry[key][0]['result'][0]['original_width'],\n",
    "            'height': entry[key][0]['result'][0]['original_height'],\n",
    "            'task_id': entry['id'],\n",
    "            'annot_id': entry[key][0]['id'],\n",
    "            'annotater': entry[key][0]['completed_by']['id'],\n",
    "            'created': datetime.strptime(entry[key][0]['created_at'], '%Y-%m-%dT%H:%M:%S.%fZ'),\n",
    "            'updated': datetime.strptime(entry[key][0]['updated_at'], '%Y-%m-%dT%H:%M:%S.%fZ')\n",
    "        })\n",
    "\n",
    "df = pd.DataFrame(annotations)\n",
    "df['delta'] = df['updated'] - df['created']\n",
    "print(\"Read {} annotations\".format(len(annotations)))"
   ]
  },
  {
   "cell_type": "code",
   "execution_count": 5,
   "id": "aeaa4730-d763-4321-982c-f5a47e4067e8",
   "metadata": {},
   "outputs": [],
   "source": [
    "#df.to_csv('annotations_part2.tsv', sep='\\t', index=False)"
   ]
  },
  {
   "cell_type": "code",
   "execution_count": 6,
   "id": "391b12ff-ec02-4b9f-a0f7-4ec3e49fe66c",
   "metadata": {},
   "outputs": [
    {
     "name": "stdout",
     "output_type": "stream",
     "text": [
      "135 of 2100 annotations reviewed (6.43%)\n"
     ]
    }
   ],
   "source": [
    "df['reviewed'] = False\n",
    "\n",
    "# annotations I created are considered reviewed\n",
    "df.loc[df['annotater'] == 1, 'reviewed'] = True\n",
    "\n",
    "df.loc[df['delta'] > timedelta(minutes=10), 'reviewed'] = True\n",
    "\n",
    "total = len(df.index)\n",
    "reviewed = len(df[df['reviewed'] == True].index)\n",
    "\n",
    "print('{} of {} annotations reviewed ({:.2%})'.format(reviewed, total, reviewed / total))"
   ]
  },
  {
   "cell_type": "code",
   "execution_count": 7,
   "id": "64e5fcee-fdea-4a30-bee6-4fc333401417",
   "metadata": {},
   "outputs": [
    {
     "data": {
      "text/html": [
       "<div>\n",
       "<style scoped>\n",
       "    .dataframe tbody tr th:only-of-type {\n",
       "        vertical-align: middle;\n",
       "    }\n",
       "\n",
       "    .dataframe tbody tr th {\n",
       "        vertical-align: top;\n",
       "    }\n",
       "\n",
       "    .dataframe thead th {\n",
       "        text-align: right;\n",
       "    }\n",
       "</style>\n",
       "<table border=\"1\" class=\"dataframe\">\n",
       "  <thead>\n",
       "    <tr style=\"text-align: right;\">\n",
       "      <th></th>\n",
       "      <th>file_name</th>\n",
       "      <th>width</th>\n",
       "      <th>height</th>\n",
       "      <th>task_id</th>\n",
       "      <th>annot_id</th>\n",
       "      <th>annotater</th>\n",
       "      <th>created</th>\n",
       "      <th>updated</th>\n",
       "      <th>delta</th>\n",
       "      <th>reviewed</th>\n",
       "    </tr>\n",
       "  </thead>\n",
       "  <tbody>\n",
       "    <tr>\n",
       "      <th>51</th>\n",
       "      <td>/data/local-files/?d=Moseq-SCI-Detectron/image...</td>\n",
       "      <td>247</td>\n",
       "      <td>247</td>\n",
       "      <td>29</td>\n",
       "      <td>2210</td>\n",
       "      <td>1</td>\n",
       "      <td>2021-09-24 18:06:00.090128</td>\n",
       "      <td>2022-02-23 00:12:26.369557</td>\n",
       "      <td>151 days 06:06:26.279429</td>\n",
       "      <td>True</td>\n",
       "    </tr>\n",
       "    <tr>\n",
       "      <th>1428</th>\n",
       "      <td>/data/local-files/?d=Moseq-SCI-Detectron/image...</td>\n",
       "      <td>246</td>\n",
       "      <td>242</td>\n",
       "      <td>788</td>\n",
       "      <td>584</td>\n",
       "      <td>1</td>\n",
       "      <td>2021-09-07 17:43:59.992988</td>\n",
       "      <td>2021-09-07 17:43:59.993016</td>\n",
       "      <td>0 days 00:00:00.000028</td>\n",
       "      <td>True</td>\n",
       "    </tr>\n",
       "    <tr>\n",
       "      <th>1438</th>\n",
       "      <td>/data/local-files/?d=Moseq-SCI-Detectron/image...</td>\n",
       "      <td>246</td>\n",
       "      <td>242</td>\n",
       "      <td>778</td>\n",
       "      <td>578</td>\n",
       "      <td>1</td>\n",
       "      <td>2021-09-07 17:28:30.149658</td>\n",
       "      <td>2021-09-07 17:28:30.149686</td>\n",
       "      <td>0 days 00:00:00.000028</td>\n",
       "      <td>True</td>\n",
       "    </tr>\n",
       "  </tbody>\n",
       "</table>\n",
       "</div>"
      ],
      "text/plain": [
       "                                              file_name  width  height  \\\n",
       "51    /data/local-files/?d=Moseq-SCI-Detectron/image...    247     247   \n",
       "1428  /data/local-files/?d=Moseq-SCI-Detectron/image...    246     242   \n",
       "1438  /data/local-files/?d=Moseq-SCI-Detectron/image...    246     242   \n",
       "\n",
       "      task_id  annot_id  annotater                    created  \\\n",
       "51         29      2210          1 2021-09-24 18:06:00.090128   \n",
       "1428      788       584          1 2021-09-07 17:43:59.992988   \n",
       "1438      778       578          1 2021-09-07 17:28:30.149658   \n",
       "\n",
       "                        updated                    delta  reviewed  \n",
       "51   2022-02-23 00:12:26.369557 151 days 06:06:26.279429      True  \n",
       "1428 2021-09-07 17:43:59.993016   0 days 00:00:00.000028      True  \n",
       "1438 2021-09-07 17:28:30.149686   0 days 00:00:00.000028      True  "
      ]
     },
     "execution_count": 7,
     "metadata": {},
     "output_type": "execute_result"
    }
   ],
   "source": [
    "df[df['annotater'] == 1]"
   ]
  },
  {
   "cell_type": "code",
   "execution_count": 10,
   "id": "492a02ad-a80f-44fe-bf3d-62742d787e4e",
   "metadata": {},
   "outputs": [
    {
     "data": {
      "text/plain": [
       "<AxesSubplot:>"
      ]
     },
     "execution_count": 10,
     "metadata": {},
     "output_type": "execute_result"
    },
    {
     "data": {
      "image/png": "[encoded data removed]",
      "text/plain": [
       "<Figure size 2304x216 with 2 Axes>"
      ]
     },
     "metadata": {
      "needs_background": "light"
     },
     "output_type": "display_data"
    }
   ],
   "source": [
    "plt.figure(figsize=(32, 3))\n",
    "sns.heatmap([df['reviewed']])"
   ]
  },
  {
   "cell_type": "code",
   "execution_count": 9,
   "id": "de48b584-e287-45b6-be49-6b5e36658b4d",
   "metadata": {},
   "outputs": [
    {
     "name": "stdout",
     "output_type": "stream",
     "text": [
      "81 - 96 (16)\n",
      "98 - 104 (7)\n",
      "106 - 110 (5)\n",
      "112 - 117 (6)\n",
      "119 - 485 (367)\n",
      "487 - 497 (11)\n",
      "499 - 509 (11)\n",
      "511 - 571 (61)\n",
      "573 - 589 (17)\n",
      "591 - 769 (179)\n",
      "771 - 777 (7)\n",
      "779 - 787 (9)\n",
      "789 - 1044 (256)\n",
      "1046 - 1132 (87)\n",
      "1134 - 1148 (15)\n",
      "1150 - 1192 (43)\n",
      "1194 - 1244 (51)\n",
      "1246 - 1282 (37)\n",
      "1284 - 1434 (151)\n",
      "1436 - 1436 (1)\n",
      "1439 - 1439 (1)\n",
      "1441 - 1441 (1)\n",
      "1443 - 1443 (1)\n",
      "1448 - 1449 (2)\n",
      "1452 - 1452 (1)\n",
      "1454 - 1454 (1)\n",
      "1456 - 1456 (1)\n",
      "1458 - 1475 (18)\n",
      "1477 - 1540 (64)\n",
      "1542 - 1563 (22)\n",
      "1565 - 1567 (3)\n",
      "1569 - 1571 (3)\n",
      "1573 - 1587 (15)\n",
      "1589 - 1595 (7)\n",
      "1597 - 1610 (14)\n",
      "1612 - 1626 (15)\n",
      "1628 - 1653 (26)\n",
      "1655 - 1672 (18)\n",
      "1674 - 1681 (8)\n",
      "1683 - 1691 (9)\n",
      "1693 - 1723 (31)\n",
      "1725 - 1727 (3)\n",
      "1729 - 1732 (4)\n",
      "1734 - 1744 (11)\n",
      "1746 - 1771 (26)\n",
      "1773 - 1785 (13)\n",
      "1787 - 1887 (101)\n",
      "1889 - 1915 (27)\n",
      "1917 - 1975 (59)\n",
      "1977 - 2025 (49)\n",
      "2027 - 2100 (74)\n",
      "1965 total tasks not reviewed\n"
     ]
    }
   ],
   "source": [
    "non_reviewed_tasks = collapse_consecutive_values(df[df['reviewed'] == False]['task_id'].sort_values())\n",
    "for nrt_id, nrt_count in non_reviewed_tasks:\n",
    "    print(\"{} - {} ({})\".format(nrt_id, nrt_id + nrt_count - 1, nrt_count))\n",
    "print(\"{} total tasks not reviewed\".format(sum([nrt[1] for nrt in non_reviewed_tasks])))"
   ]
  },
  {
   "cell_type": "code",
   "execution_count": 10,
   "id": "a02ddeb3-a2ee-402e-a0e8-02c9dd19082f",
   "metadata": {},
   "outputs": [
    {
     "data": {
      "text/plain": [
       "array([   0,    1,    2, ..., 2366, 2375, 2376], dtype=int64)"
      ]
     },
     "execution_count": 10,
     "metadata": {},
     "output_type": "execute_result"
    }
   ],
   "source": [
    "df['reviewed'].to_numpy().nonzero()[0]"
   ]
  },
  {
   "cell_type": "code",
   "execution_count": null,
   "id": "551bb5d9-c57c-4936-a6c7-e7710902f7db",
   "metadata": {},
   "outputs": [],
   "source": []
  }
 ],
 "metadata": {
  "interpreter": {
   "hash": "c510d253636054fdfcb4ad054e832fb1f04e4986a6ea209d6ed0eaae8ac3873d"
  },
  "kernelspec": {
   "display_name": "Python 3.8.12 ('moseq-detectron')",
   "language": "python",
   "name": "python3"
  },
  "language_info": {
   "codemirror_mode": {
    "name": "ipython",
    "version": 3
   },
   "file_extension": ".py",
   "mimetype": "text/x-python",
   "name": "python",
   "nbconvert_exporter": "python",
   "pygments_lexer": "ipython3",
   "version": "3.8.12"
  }
 },
 "nbformat": 4,
 "nbformat_minor": 5
}
